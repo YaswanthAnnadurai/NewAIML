{
 "cells": [
  {
   "cell_type": "markdown",
   "id": "0ae21a23",
   "metadata": {},
   "source": [
    "# Manipulate using a list.\n",
    "\n",
    "1.To add new elements to the end of the list\n",
    "\n",
    "2.To reverse elements in the list\n",
    "\n",
    "3.To display the same list of elements multiple times.\n",
    "\n",
    "4.To concatenate two list\n",
    "\n",
    "5.To sort the elements in the list in ascending order"
   ]
  },
  {
   "cell_type": "code",
   "execution_count": 1,
   "id": "67148d2b",
   "metadata": {},
   "outputs": [
    {
     "data": {
      "text/plain": [
       "[7, 18, 20, 28]"
      ]
     },
     "execution_count": 1,
     "metadata": {},
     "output_type": "execute_result"
    }
   ],
   "source": [
    "lst=[7,18,20]\n",
    "lst.append(28)\n",
    "lst"
   ]
  },
  {
   "cell_type": "code",
   "execution_count": 2,
   "id": "122daf34",
   "metadata": {},
   "outputs": [
    {
     "name": "stdout",
     "output_type": "stream",
     "text": [
      "[20, 18, 7]\n"
     ]
    }
   ],
   "source": [
    "lst=[7,18,20]\n",
    "lst.reverse()\n",
    "print(lst)"
   ]
  },
  {
   "cell_type": "code",
   "execution_count": 3,
   "id": "27ad823f",
   "metadata": {},
   "outputs": [
    {
     "name": "stdout",
     "output_type": "stream",
     "text": [
      "[7, 18, 20, 7, 18, 20, 7, 18, 20, 7, 18, 20, 7, 18, 20, 7, 18, 20, 7, 18, 20, 7, 18, 20, 7, 18, 20, 7, 18, 20, 7, 18, 20, 7, 18, 20, 7, 18, 20, 7, 18, 20, 7, 18, 20]\n"
     ]
    }
   ],
   "source": [
    "lst=[7,18,20]\n",
    "result=lst*15\n",
    "print(result)"
   ]
  },
  {
   "cell_type": "code",
   "execution_count": 4,
   "id": "ad0bd119",
   "metadata": {},
   "outputs": [
    {
     "name": "stdout",
     "output_type": "stream",
     "text": [
      "[1, 2, 3, 4, 5, 6]\n"
     ]
    }
   ],
   "source": [
    "lst1=[1,2,3]\n",
    "lst2=[4,5,6]\n",
    "concatenated_lst=lst1+lst2\n",
    "print(concatenated_lst)"
   ]
  },
  {
   "cell_type": "code",
   "execution_count": 5,
   "id": "0ef824f3",
   "metadata": {},
   "outputs": [
    {
     "name": "stdout",
     "output_type": "stream",
     "text": [
      "[18, 19, 20]\n"
     ]
    }
   ],
   "source": [
    "lst=[18,19,20]\n",
    "lst.sort()\n",
    "print(lst)"
   ]
  },
  {
   "cell_type": "markdown",
   "id": "3e9291b2",
   "metadata": {},
   "source": [
    "# Write a Python program to do in the tuples.\n",
    "\n",
    "1.Manipulate using tuples.\n",
    "\n",
    "2.To add new elements to the end of the tuples.\n",
    "\n",
    "3.To reverse elements in the list.\n",
    "\n",
    "4.To display the elements of the same tuple multiple times.\n",
    "\n",
    "5.To concatenate two tuples.\n",
    "\n",
    "6.To sort the elements in the list in ascending order."
   ]
  },
  {
   "cell_type": "code",
   "execution_count": 7,
   "id": "a2618233",
   "metadata": {},
   "outputs": [
    {
     "name": "stdout",
     "output_type": "stream",
     "text": [
      "Original Tuple: (1, 2, 3, 4, 5)\n",
      "Reversed Tuple: (5, 4, 3, 2, 1)\n",
      "Repeated Tuple: (1, 2, 3, 4, 5, 1, 2, 3, 4, 5, 1, 2, 3, 4, 5)\n",
      "Concatenated Tuple: (1, 2, 3, 4, 5, 6)\n",
      "Sorted Tuple: (1, 2, 3, 4, 5)\n"
     ]
    }
   ],
   "source": [
    "my_tuple = (1, 2, 3, 4)\n",
    "\n",
    "# Add new elements to the end of the tuple\n",
    "new_element = 5\n",
    "my_tuple += (new_element,)\n",
    "\n",
    "# ii) Reverse elements in the tuple\n",
    "reversed_tuple = tuple(reversed(my_tuple))\n",
    "\n",
    "# iii) Display elements of the tuple multiple times\n",
    "repeat_times = 3\n",
    "repeated_tuple = my_tuple * repeat_times\n",
    "\n",
    "# iv) Concatenate two tuples\n",
    "tuple1 = (1, 2, 3)\n",
    "tuple2 = (4, 5, 6)\n",
    "concatenated_tuple = tuple1 + tuple2\n",
    "\n",
    "# v) Sort the elements in the tuple in ascending order\n",
    "sorted_tuple = tuple(sorted(my_tuple))\n",
    "\n",
    "# Display the results\n",
    "print(\"Original Tuple:\", my_tuple)\n",
    "print(\"Reversed Tuple:\", reversed_tuple)\n",
    "print(\"Repeated Tuple:\", repeated_tuple)\n",
    "print(\"Concatenated Tuple:\", concatenated_tuple)\n",
    "print(\"Sorted Tuple:\", sorted_tuple)"
   ]
  },
  {
   "cell_type": "markdown",
   "id": "874f77a9",
   "metadata": {},
   "source": [
    "#  Write a python program to implement the following using list.\n",
    "\n",
    "1.Create a list with integers (minimum 10 numbers)\n",
    "\n",
    "2. How to display the last number in the list.\n",
    "\n",
    "3.Command for displaying the values from the list [0:4]\n",
    "\n",
    "4.Command for displaying the values from the list [2:]\n",
    "\n",
    "5.Command for displaying the values from the list [:6]"
   ]
  },
  {
   "cell_type": "code",
   "execution_count": 8,
   "id": "627a4d7a",
   "metadata": {},
   "outputs": [
    {
     "name": "stdout",
     "output_type": "stream",
     "text": [
      "10\n",
      "[1, 2, 3, 4]\n",
      "[3, 4, 5, 6, 7, 8, 9, 10]\n",
      "[1, 2, 3, 4, 5, 6]\n"
     ]
    }
   ],
   "source": [
    "# Create a list with integers\n",
    "numbers = [1, 2, 3, 4, 5, 6, 7, 8, 9, 10]\n",
    "\n",
    "# Display the last number in the list\n",
    "print(numbers[-1])\n",
    "\n",
    "# Command for displaying the values from the list [0:4]\n",
    "print(numbers[0:4])\n",
    "\n",
    "# Command for displaying the values from the list [2:]\n",
    "print(numbers[2:])\n",
    "\n",
    "# Command for displaying the values from the list [:6]\n",
    "print(numbers[:6])"
   ]
  },
  {
   "cell_type": "markdown",
   "id": "14ca8482",
   "metadata": {},
   "source": [
    "# Write a Python program: tuple1 = (10,50,20,40,30)\n",
    "\n",
    "1.To display the elements 10 and 50 from tuple1\n",
    "\n",
    "2.To display the length of a tuple1.\n",
    "\n",
    "3.To find the minimum element from tuple1\n",
    "\n",
    "4. To add all elements in the tuple1.\n",
    "\n",
    "5.To display the same tuple1 multiple times"
   ]
  },
  {
   "cell_type": "code",
   "execution_count": 9,
   "id": "6cf42baf",
   "metadata": {},
   "outputs": [
    {
     "name": "stdout",
     "output_type": "stream",
     "text": [
      "10 50\n",
      "5\n",
      "10\n",
      "150\n",
      "(10, 50, 20, 40, 30, 10, 50, 20, 40, 30, 10, 50, 20, 40, 30)\n"
     ]
    }
   ],
   "source": [
    "tuple1 = (10,50,20,40,30)\n",
    "\n",
    "# To display the elements 10 and 50 from tuple1\n",
    "print(tuple1[0], tuple1[1])\n",
    "\n",
    "# To display the length of a tuple1\n",
    "print(len(tuple1))\n",
    "\n",
    "# To find the minimum element from tuple1\n",
    "print(min(tuple1))\n",
    "\n",
    "# To add all elements in the tuple1\n",
    "print(sum(tuple1))\n",
    "\n",
    "# To display the same tuple1 multiple times\n",
    "print(tuple1 * 3)"
   ]
  },
  {
   "cell_type": "markdown",
   "id": "b10b256d",
   "metadata": {},
   "source": [
    "# Write a Python program:\n",
    "\n",
    "1.To calculate the length of a string\n",
    "\n",
    "2.To reverse words in a string\n",
    "\n",
    "3.To display the same string multiple times\n",
    "\n",
    "4.To concatenate two strings\n",
    "\n",
    "5.Str1=\" South India\", using string slicing to display \"India\""
   ]
  },
  {
   "cell_type": "code",
   "execution_count": 17,
   "id": "9caad582",
   "metadata": {},
   "outputs": [
    {
     "name": "stdout",
     "output_type": "stream",
     "text": [
      "11\n",
      "aidnI htuoS\n",
      "South IndiaSouth IndiaSouth IndiaSouth IndiaSouth India\n",
      "South India North\n",
      "India\n"
     ]
    }
   ],
   "source": [
    "#To calculate the length of a string\n",
    "str1=\"South India\"\n",
    "print(len(str1))\n",
    "\n",
    "#To reverse words in a string\n",
    "\n",
    "reversed_string = str1[::-1]\n",
    "print(reversed_string)\n",
    "\n",
    "#To display the same string multiple times\n",
    "print(str1*5)\n",
    "\n",
    "#To concatenate two strings\n",
    "str2=\" North\"\n",
    "Total=str1+str2\n",
    "print(Total)\n",
    "\n",
    "#Str1=\" South India\", using string slicing to display \"India\"\n",
    "slice=str1[6:]\n",
    "print(slice)"
   ]
  },
  {
   "cell_type": "markdown",
   "id": "3c653d37",
   "metadata": {},
   "source": [
    "# Perform the following:\n",
    "\n",
    "1.Creating the Dictionary.\n",
    "\n",
    "2.Accessing values and keys in the Dictionary.\n",
    "\n",
    "3.Updating the dictionary using a function.\n",
    "\n",
    "4.Clear and delete the dictionary values."
   ]
  },
  {
   "cell_type": "code",
   "execution_count": 27,
   "id": "26d1332c",
   "metadata": {},
   "outputs": [
    {
     "name": "stdout",
     "output_type": "stream",
     "text": [
      "Key: name\n",
      "Value: Yechu\n",
      "Key: age\n",
      "Value: 22\n",
      "Key: city\n",
      "Value: Salem\n",
      "{'name': 'Yechu', 'age': 22, 'city': 'chennai', 'occupation': 'Software Engineer'}\n",
      "{}\n"
     ]
    }
   ],
   "source": [
    "# Creating a dictionary\n",
    "my_dict = {\n",
    "    \"name\": \"Yechu\",\n",
    "    \"age\": 22,\n",
    "    \"city\": \"Salem\"\n",
    "}\n",
    "\n",
    "# Accessing both keys and values\n",
    "for key, value in my_dict.items():\n",
    "    print(\"Key:\", key)\n",
    "    print(\"Value:\", value)\n",
    "    \n",
    "#Updating the dictionary using a function.      \n",
    "def update_dictionary(my_dict, key, value):\n",
    "    my_dict[key] = value\n",
    "\n",
    "update_dictionary(my_dict,\"city\", \"chennai\")\n",
    "update_dictionary(my_dict,\"occupation\", \"Software Engineer\")\n",
    "\n",
    "print(my_dict)\n",
    "\n",
    "#Clear and delete the dictionary values.\n",
    "\n",
    "my_dict.clear()\n",
    "print(my_dict)\n",
    "\n",
    "#del my_dict\n",
    "#print(my_dict)"
   ]
  },
  {
   "cell_type": "markdown",
   "id": "a03219ff",
   "metadata": {},
   "source": [
    "# Python program to insert a number to any position in a list"
   ]
  },
  {
   "cell_type": "code",
   "execution_count": 28,
   "id": "b32cc176",
   "metadata": {},
   "outputs": [
    {
     "name": "stdout",
     "output_type": "stream",
     "text": [
      "[25, 55, 14, 1000, 17, 18, 15, 85, 96, 32, 200, 150]\n"
     ]
    }
   ],
   "source": [
    "nums = [25,55,14,17,18,15,85,96,32,200,150]\n",
    "nums.insert(3, 1000)\n",
    "print(nums)"
   ]
  },
  {
   "cell_type": "markdown",
   "id": "4db321a4",
   "metadata": {},
   "source": [
    "# Pyton program to delete an element from a list by index"
   ]
  },
  {
   "cell_type": "code",
   "execution_count": 29,
   "id": "f2302509",
   "metadata": {},
   "outputs": [
    {
     "name": "stdout",
     "output_type": "stream",
     "text": [
      "[25, 55, 14, 1000, 17, 18, 15, 85, 96, 32, 200, 150]\n",
      "[25, 55, 14, 1000, 18, 15, 85, 96, 32, 200, 150]\n"
     ]
    }
   ],
   "source": [
    "print(nums)\n",
    "nums.pop(4)\n",
    "print(nums)"
   ]
  },
  {
   "cell_type": "markdown",
   "id": "3f8e84cb",
   "metadata": {},
   "source": [
    "# Write a program to display the numbers from 1 to 100"
   ]
  },
  {
   "cell_type": "code",
   "execution_count": 31,
   "id": "277ce824",
   "metadata": {},
   "outputs": [
    {
     "name": "stdout",
     "output_type": "stream",
     "text": [
      "1\n",
      "2\n",
      "3\n",
      "4\n",
      "5\n",
      "6\n",
      "7\n",
      "8\n",
      "9\n",
      "10\n",
      "11\n",
      "12\n",
      "13\n",
      "14\n",
      "15\n",
      "16\n",
      "17\n",
      "18\n",
      "19\n",
      "20\n",
      "21\n",
      "22\n",
      "23\n",
      "24\n",
      "25\n",
      "26\n",
      "27\n",
      "28\n",
      "29\n",
      "30\n",
      "31\n",
      "32\n",
      "33\n",
      "34\n",
      "35\n",
      "36\n",
      "37\n",
      "38\n",
      "39\n",
      "40\n",
      "41\n",
      "42\n",
      "43\n",
      "44\n",
      "45\n",
      "46\n",
      "47\n",
      "48\n",
      "49\n",
      "50\n",
      "51\n",
      "52\n",
      "53\n",
      "54\n",
      "55\n",
      "56\n",
      "57\n",
      "58\n",
      "59\n",
      "60\n",
      "61\n",
      "62\n",
      "63\n",
      "64\n",
      "65\n",
      "66\n",
      "67\n",
      "68\n",
      "69\n",
      "70\n",
      "71\n",
      "72\n",
      "73\n",
      "74\n",
      "75\n",
      "76\n",
      "77\n",
      "78\n",
      "79\n",
      "80\n",
      "81\n",
      "82\n",
      "83\n",
      "84\n",
      "85\n",
      "86\n",
      "87\n",
      "88\n",
      "89\n",
      "90\n",
      "91\n",
      "92\n",
      "93\n",
      "94\n",
      "95\n",
      "96\n",
      "97\n",
      "98\n",
      "99\n",
      "100\n"
     ]
    }
   ],
   "source": [
    "for i in range(1,101):\n",
    "    print(i)"
   ]
  },
  {
   "cell_type": "markdown",
   "id": "4a59bd9c",
   "metadata": {},
   "source": [
    "# write a python program to find the sum of all items in a tuple"
   ]
  },
  {
   "cell_type": "code",
   "execution_count": 33,
   "id": "d2de1921",
   "metadata": {},
   "outputs": [
    {
     "name": "stdout",
     "output_type": "stream",
     "text": [
      "261\n"
     ]
    }
   ],
   "source": [
    "values = (25,5,89,6,3,5,4,7,44,52,10,11)\n",
    "print(sum(values))"
   ]
  },
  {
   "cell_type": "markdown",
   "id": "a25136c9",
   "metadata": {},
   "source": [
    "# create a dictionary containing three lambda functions square, cube and square root"
   ]
  },
  {
   "cell_type": "code",
   "execution_count": 34,
   "id": "fa885572",
   "metadata": {},
   "outputs": [
    {
     "name": "stdout",
     "output_type": "stream",
     "text": [
      "Enter a number: 25\n",
      "Square of 25.0 is 625.0\n",
      "Cube of 25.0 is 15625.0\n",
      "Square Root of 25.0 is 5.0\n",
      "Sum of all outputs: 16255.0\n"
     ]
    }
   ],
   "source": [
    "import math\n",
    "\n",
    "functions_dict = {\n",
    "    'Square': lambda x: x ** 2,\n",
    "    'Cube': lambda x: x ** 3,\n",
    "    'Square Root': lambda x: math.sqrt(x)\n",
    "}\n",
    "\n",
    "# Get user input\n",
    "user_input = int(input(\"Enter a number: \"))\n",
    "\n",
    "result = 0\n",
    "\n",
    "for function_name, function in functions_dict.items():\n",
    "    output = function(user_input)\n",
    "    print(f'{function_name} of {user_input} is {output}')\n",
    "    result += output\n",
    "\n",
    "# Print the sum of the outputs\n",
    "print(f'Sum of all outputs: {result}')"
   ]
  },
  {
   "cell_type": "markdown",
   "id": "ce4e5175",
   "metadata": {},
   "source": [
    "# A list of words is given. Find the words from the list that have their second character in uppercase"
   ]
  },
  {
   "cell_type": "code",
   "execution_count": 35,
   "id": "b54aba3a",
   "metadata": {},
   "outputs": [
    {
     "name": "stdout",
     "output_type": "stream",
     "text": [
      "['hOw', 'ARe']\n"
     ]
    }
   ],
   "source": [
    "# Find the words from the list that have their second character in uppercase\n",
    "\n",
    "ls = [\"hello\", \"Dear\", \"hOw\", \"ARe\", \"You\"]\n",
    "res = []\n",
    "for i in ls:\n",
    "    if i[1].isupper():\n",
    "        res.append(i)\n",
    "print(res)"
   ]
  },
  {
   "cell_type": "markdown",
   "id": "a09f3cd9",
   "metadata": {},
   "source": [
    "# A dictionary of names and their weighs on earth is given. Find how much they will weigh on the moon.(Use map and lambda functions) Formula: wMoon (wEarth* GMoon) / GEarth\n",
    "\n",
    "\n",
    "1.#Weight of people in kg\n",
    "\n",
    "•WeightOnEarth ('John':45, Shelly':65, 'Marry:35) \n",
    "\n",
    "2.#Gravitational force on the Moon: 1.622 m/s2\n",
    "\n",
    "•GMoon 1.622\n",
    "\n",
    "3.# Gravitational force on the Earth: 9.81 m/s2\n",
    "\n",
    "•GEarth= 9.81"
   ]
  },
  {
   "cell_type": "code",
   "execution_count": 36,
   "id": "5ac0d0da",
   "metadata": {},
   "outputs": [
    {
     "name": "stdout",
     "output_type": "stream",
     "text": [
      "Weight of people on the Moon:\n",
      "{'John': 7.440366972477065, 'Shelly': 10.747196738022426, 'Marry': 5.786952089704383}\n"
     ]
    }
   ],
   "source": [
    "# Define the dictionary with names and their weights on Earth\n",
    "WeightOnEarth = {'John': 45, 'Shelly': 65, 'Marry': 35}\n",
    "\n",
    "# Constants\n",
    "GMoon = 1.622\n",
    "GEarth = 9.81\n",
    "\n",
    "# Use map and lambda to calculate the weight on the Moon for each person\n",
    "WeightOnMoon = map(lambda weight: weight * GMoon / GEarth, WeightOnEarth.values())\n",
    "\n",
    "# Create a dictionary with names and their weights on the Moon\n",
    "WeightOnMoonDict = dict(zip(WeightOnEarth.keys(), WeightOnMoon))\n",
    "\n",
    "print(\"Weight of people on the Moon:\")\n",
    "print(WeightOnMoonDict)"
   ]
  },
  {
   "cell_type": "markdown",
   "id": "4cacef8a",
   "metadata": {},
   "source": [
    "# #control structures"
   ]
  },
  {
   "cell_type": "markdown",
   "id": "18644b47",
   "metadata": {},
   "source": [
    "# Write a python program to find the first N Prime numbers"
   ]
  },
  {
   "cell_type": "code",
   "execution_count": 37,
   "id": "9058dfbd",
   "metadata": {},
   "outputs": [
    {
     "name": "stdout",
     "output_type": "stream",
     "text": [
      "Enter the value of n: 50\n",
      "The first 50 prime numbers are: [2, 3, 5, 7, 11, 13, 17, 19, 23, 29, 31, 37, 41, 43, 47, 53, 59, 61, 67, 71, 73, 79, 83, 89, 97, 101, 103, 107, 109, 113, 127, 131, 137, 139, 149, 151, 157, 163, 167, 173, 179, 181, 191, 193, 197, 199, 211, 223, 227, 229]\n"
     ]
    }
   ],
   "source": [
    "def is_prime(num):\n",
    "    if num <= 1:\n",
    "        return False\n",
    "    elif num <= 3:\n",
    "        return True\n",
    "    elif num % 2 == 0 or num % 3 == 0:\n",
    "        return False\n",
    "    i = 5\n",
    "    while i * i <= num:\n",
    "        if num % i == 0 or num % (i + 2) == 0:\n",
    "            return False\n",
    "        i += 6\n",
    "    return True\n",
    "\n",
    "def first_n_primes(n):\n",
    "    primes = []\n",
    "    num = 2\n",
    "    while len(primes) < n:\n",
    "        if is_prime(num):\n",
    "            primes.append(num)\n",
    "        num += 1\n",
    "    return primes\n",
    "\n",
    "n = int(input(\"Enter the value of n: \"))\n",
    "prime_numbers = first_n_primes(n)\n",
    "print(f\"The first {n} prime numbers are: {prime_numbers}\")"
   ]
  },
  {
   "cell_type": "markdown",
   "id": "b67b76cf",
   "metadata": {},
   "source": [
    "# Write the python code that calculates the salary of an employee. Prompt the user to enter the Basic Salary, HRA, TA, and DA. Add these components to calculate the Gross Salary. Also, deduct 10% of salary from the Gross Salary to be paid as tax and display gross minus tax as net salary."
   ]
  },
  {
   "cell_type": "code",
   "execution_count": 38,
   "id": "a8deaea2",
   "metadata": {},
   "outputs": [
    {
     "name": "stdout",
     "output_type": "stream",
     "text": [
      "Enter Basic Salary: 10000\n",
      "Enter HRA: 5000\n",
      "Enter TA: 2000\n",
      "Enter DA: 3000\n",
      "Gross Salary: 20000.0\n",
      "Net Salary: 18000.0\n"
     ]
    }
   ],
   "source": [
    "basic_salary = float(input(\"Enter Basic Salary: \"))\n",
    "hra = float(input(\"Enter HRA: \"))\n",
    "ta = float(input(\"Enter TA: \"))\n",
    "da = float(input(\"Enter DA: \"))\n",
    "\n",
    "# Calculate Gross Salary by adding Basic, HRA, TA, and DA\n",
    "gross_salary = basic_salary + hra + ta + da\n",
    "\n",
    "# Calculate Tax (10% of Gross Salary)\n",
    "tax = 0.10 * gross_salary\n",
    "\n",
    "# Calculate Net Salary (Gross Salary - Tax)\n",
    "net_salary = gross_salary - tax\n",
    "\n",
    "# Display Gross and Net Salary\n",
    "print(f\"Gross Salary: {gross_salary}\")\n",
    "print(f\"Net Salary: {net_salary}\")"
   ]
  },
  {
   "cell_type": "markdown",
   "id": "bf212c3b",
   "metadata": {},
   "source": [
    "# Write a python program to search for a string in the given list."
   ]
  },
  {
   "cell_type": "code",
   "execution_count": 41,
   "id": "7a711cad",
   "metadata": {},
   "outputs": [],
   "source": [
    "def search_string_in_list(search_string, my_list):\n",
    "    found_indices = []\n",
    "    for i, item in enumerate(my_list):\n",
    "        if search_string in item:\n",
    "            found_indices.append(i)\n",
    "    \n",
    "    if found_indices:\n",
    "        print(f\"'{search_string}' found in the list at indices: {found_indices}\")\n",
    "    else:\n",
    "        print(f\"'{search_string}' not found in the list.\")\n"
   ]
  },
  {
   "cell_type": "markdown",
   "id": "ad0f458a",
   "metadata": {},
   "source": [
    "# Write a Python function that accepts a string and calculates the number of upper-case letters and lower-case letters."
   ]
  },
  {
   "cell_type": "code",
   "execution_count": 42,
   "id": "5896e062",
   "metadata": {},
   "outputs": [
    {
     "name": "stdout",
     "output_type": "stream",
     "text": [
      "Uppercase letters: 2\n",
      "Lowercase letters: 8\n"
     ]
    }
   ],
   "source": [
    "def count_case_letters(input_string):\n",
    "    upper_count = 0\n",
    "    lower_count = 0\n",
    "    \n",
    "    for char in input_string:\n",
    "        if char.isupper():\n",
    "            upper_count += 1\n",
    "        elif char.islower():\n",
    "            lower_count += 1\n",
    "    \n",
    "    return upper_count, lower_count\n",
    "input_str = \"Hello World\"\n",
    "upper, lower = count_case_letters(input_str)\n",
    "print(\"Uppercase letters:\", upper)\n",
    "print(\"Lowercase letters:\", lower)"
   ]
  },
  {
   "cell_type": "markdown",
   "id": "544d4343",
   "metadata": {},
   "source": [
    "# Write a program to display the sum of odd numbers and even numbers that fall between 12 and 37."
   ]
  },
  {
   "cell_type": "code",
   "execution_count": 46,
   "id": "fbaf816d",
   "metadata": {},
   "outputs": [
    {
     "name": "stdout",
     "output_type": "stream",
     "text": [
      "Sum of even numbers: 312\n",
      "Sum of odd numbers: 325\n"
     ]
    }
   ],
   "source": [
    "sum_odd = 0\n",
    "sum_even = 0\n",
    "\n",
    "for num in range(12, 38):\n",
    "    if num % 2 == 0:\n",
    "        sum_even += num\n",
    "    else:\n",
    "        sum_odd += num\n",
    "\n",
    "print(\"Sum of even numbers:\", sum_even)\n",
    "print(\"Sum of odd numbers:\", sum_odd)"
   ]
  },
  {
   "cell_type": "markdown",
   "id": "ab017b29",
   "metadata": {},
   "source": [
    "# Write a python Program to print the table of any number."
   ]
  },
  {
   "cell_type": "code",
   "execution_count": 49,
   "id": "151afbc4",
   "metadata": {},
   "outputs": [
    {
     "name": "stdout",
     "output_type": "stream",
     "text": [
      "Enter a number: 2\n",
      "Multiplication Table of 2:\n",
      "2 x 1 = 2\n",
      "2 x 2 = 4\n",
      "2 x 3 = 6\n",
      "2 x 4 = 8\n",
      "2 x 5 = 10\n",
      "2 x 6 = 12\n",
      "2 x 7 = 14\n",
      "2 x 8 = 16\n",
      "2 x 9 = 18\n",
      "2 x 10 = 20\n"
     ]
    }
   ],
   "source": [
    "num = int(input(\"Enter a number: \"))\n",
    "\n",
    "print(f\"Multiplication Table of {num}:\")\n",
    "for i in range(1, 11):\n",
    "    print(f\"{num} x {i} = {num * i}\")"
   ]
  },
  {
   "cell_type": "markdown",
   "id": "fe80d7d1",
   "metadata": {},
   "source": [
    "# Write a Python program to sum the first 10 prime numbers."
   ]
  },
  {
   "cell_type": "code",
   "execution_count": 50,
   "id": "0e398929",
   "metadata": {},
   "outputs": [
    {
     "name": "stdout",
     "output_type": "stream",
     "text": [
      "The sum of the first 10 prime numbers is: 129\n"
     ]
    }
   ],
   "source": [
    "def is_prime(num):\n",
    "    if num <= 1:\n",
    "        return False\n",
    "    if num <= 3:\n",
    "        return True\n",
    "    if num % 2 == 0 or num % 3 == 0:\n",
    "        return False\n",
    "    i = 5\n",
    "    while i * i <= num:\n",
    "        if num % i == 0 or num % (i + 2) == 0:\n",
    "            return False\n",
    "        i += 6\n",
    "    return True\n",
    "\n",
    "count = 0\n",
    "number = 2\n",
    "prime_sum = 0\n",
    "\n",
    "while count < 10:\n",
    "    if is_prime(number):\n",
    "        prime_sum += number\n",
    "        count += 1\n",
    "    number += 1\n",
    "\n",
    "print(\"The sum of the first 10 prime numbers is:\", prime_sum)"
   ]
  },
  {
   "cell_type": "markdown",
   "id": "8834ea9c",
   "metadata": {},
   "source": [
    "# Write a python program to implement arithmetic operations using nested if statement."
   ]
  },
  {
   "cell_type": "code",
   "execution_count": 53,
   "id": "6eba3582",
   "metadata": {},
   "outputs": [
    {
     "name": "stdout",
     "output_type": "stream",
     "text": [
      "Enter the first number: 2\n",
      "Enter the second number: 4\n",
      "Enter an arithmetic operation (+, -, *, /): +\n",
      "Result: 6.0\n"
     ]
    }
   ],
   "source": [
    "num1 = float(input(\"Enter the first number: \"))\n",
    "num2 = float(input(\"Enter the second number: \"))\n",
    "\n",
    "operation = input(\"Enter an arithmetic operation (+, -, *, /): \")\n",
    "\n",
    "if operation == \"+\":\n",
    "    result = num1 + num2\n",
    "elif operation == \"-\":\n",
    "    result = num1 - num2\n",
    "elif operation == \"*\":\n",
    "    result = num1 * num2\n",
    "elif operation == \"/\":\n",
    "    if num2 != 0:\n",
    "        result = num1 / num2\n",
    "    else:\n",
    "        result = \"Division by zero is not allowed.\"\n",
    "else:\n",
    "    result = \"Invalid operation\"\n",
    "\n",
    "print(f\"Result: {result}\")"
   ]
  },
  {
   "cell_type": "markdown",
   "id": "01a6e8c9",
   "metadata": {},
   "source": [
    "# Write a python program to take the temperature in Celsius and convert it to a Fahrenheit."
   ]
  },
  {
   "cell_type": "code",
   "execution_count": 54,
   "id": "357ea5de",
   "metadata": {},
   "outputs": [
    {
     "name": "stdout",
     "output_type": "stream",
     "text": [
      "Enter temperature in Celsius: 37\n",
      "37.0 degrees Celsius is equal to 98.6 degrees Fahrenheit\n"
     ]
    }
   ],
   "source": [
    "celsius = float(input(\"Enter temperature in Celsius: \"))\n",
    "\n",
    "fahrenheit = (celsius * 9/5) + 32\n",
    "\n",
    "print(f\"{celsius} degrees Celsius is equal to {fahrenheit} degrees Fahrenheit\")"
   ]
  },
  {
   "cell_type": "markdown",
   "id": "d83c1da2",
   "metadata": {},
   "source": [
    "# Write a python program to find a maximum and minimum number in a list without using an inbuilt function."
   ]
  },
  {
   "cell_type": "code",
   "execution_count": 56,
   "id": "ac9a95c0",
   "metadata": {},
   "outputs": [],
   "source": [
    "def find_max_min(numbers):\n",
    "    # Check if the list is empty\n",
    "    if not numbers:\n",
    "        return None, None\n",
    "\n",
    "    maximum = minimum = numbers[0]\n",
    "    for number in numbers:\n",
    "        if number > maximum:\n",
    "            maximum = number\n",
    "        if number < minimum:\n",
    "            minimum = number\n",
    "\n",
    "    return maximum, minimum"
   ]
  },
  {
   "cell_type": "markdown",
   "id": "262f2e64",
   "metadata": {},
   "source": [
    "# Write a program in python to print out the number of seconds in 30-day month 30 days, 24 hours in a day, 60 minutes per day, 60 seconds in a minute."
   ]
  },
  {
   "cell_type": "code",
   "execution_count": 57,
   "id": "1486ae0b",
   "metadata": {},
   "outputs": [
    {
     "name": "stdout",
     "output_type": "stream",
     "text": [
      "There are 2592000 seconds in a 30-day month.\n"
     ]
    }
   ],
   "source": [
    "days_in_month = 30\n",
    "hours_in_day = 24\n",
    "minutes_in_hour = 60\n",
    "seconds_in_minute = 60\n",
    "\n",
    "seconds_in_30_days = days_in_month * hours_in_day * minutes_in_hour * seconds_in_minute\n",
    "\n",
    "print(f\"There are {seconds_in_30_days} seconds in a 30-day month.\")"
   ]
  },
  {
   "cell_type": "markdown",
   "id": "701c760a",
   "metadata": {},
   "source": [
    "# Write a program in python to print out the number of seconds in a year."
   ]
  },
  {
   "cell_type": "code",
   "execution_count": 58,
   "id": "e29549d4",
   "metadata": {},
   "outputs": [
    {
     "name": "stdout",
     "output_type": "stream",
     "text": [
      "The number of seconds in a year (assuming 365 days) is: 31536000 seconds\n"
     ]
    }
   ],
   "source": [
    "days_per_year = 365\n",
    "hours_per_day = 24\n",
    "minutes_per_hour = 60\n",
    "seconds_per_minute = 60\n",
    "\n",
    "total_seconds = days_per_year * hours_per_day * minutes_per_hour * seconds_per_minute\n",
    "\n",
    "print(f\"The number of seconds in a year (assuming 365 days) is: {total_seconds} seconds\")"
   ]
  },
  {
   "cell_type": "markdown",
   "id": "ff5a8ca6",
   "metadata": {},
   "source": [
    "# A high-speed train can travel at an average speed of 150 mph, how long will it take a train travelling at this speed to travel from London to Glasgow which is 414 miles away?"
   ]
  },
  {
   "cell_type": "code",
   "execution_count": 59,
   "id": "feba8aac",
   "metadata": {},
   "outputs": [
    {
     "name": "stdout",
     "output_type": "stream",
     "text": [
      "It will take approximately 2 hours and 45.60 minutes to travel from London to Glasgow.\n"
     ]
    }
   ],
   "source": [
    "distance = 414\n",
    "speed = 150\n",
    "time_hours = distance / speed\n",
    "\n",
    "hours = int(time_hours)\n",
    "minutes = (time_hours - hours) * 60\n",
    "\n",
    "print(f\"It will take approximately {hours} hours and {minutes:.2f} minutes to travel from London to Glasgow.\")"
   ]
  },
  {
   "cell_type": "markdown",
   "id": "19a9de6f",
   "metadata": {},
   "source": [
    "# Write a python program that defines a variable called days in each school year and assign 192 to the variable. The program should then print out the total hours that you spend in school from year 7 to year 11, if each day you spend 6 hours in school days_in_each_school_year = 192"
   ]
  },
  {
   "cell_type": "code",
   "execution_count": 60,
   "id": "c2265943",
   "metadata": {},
   "outputs": [
    {
     "name": "stdout",
     "output_type": "stream",
     "text": [
      "Total hours spent in school from year 7 to year 11: 51840 hours\n"
     ]
    }
   ],
   "source": [
    "days_in_each_school_year = 192\n",
    "\n",
    "# Years 7 to 11\n",
    "years = range(7, 12)\n",
    "\n",
    "# Calculate the total hours spent in school\n",
    "total_hours = sum(year * days_in_each_school_year * 6 for year in years)\n",
    "\n",
    "print(f\"Total hours spent in school from year 7 to year 11: {total_hours} hours\")"
   ]
  },
  {
   "cell_type": "markdown",
   "id": "793b4237",
   "metadata": {},
   "source": [
    "#  If the age of Ram,Sam and Khan are input through the keyboard,write a python program to determine the eldest and youngest of the three."
   ]
  },
  {
   "cell_type": "code",
   "execution_count": 61,
   "id": "328ca05a",
   "metadata": {},
   "outputs": [
    {
     "name": "stdout",
     "output_type": "stream",
     "text": [
      "Enter Ram's age: 20\n",
      "Enter Sam's age: 30\n",
      "Enter Khan's age: 18\n",
      "The eldest among Ram, Sam, and Khan is: Sam\n",
      "The youngest among Ram, Sam, and Khan is: Khan\n"
     ]
    }
   ],
   "source": [
    "ram_age = int(input(\"Enter Ram's age: \"))\n",
    "sam_age = int(input(\"Enter Sam's age: \"))\n",
    "khan_age = int(input(\"Enter Khan's age: \"))\n",
    "\n",
    "# Determine the eldest and youngest\n",
    "if ram_age >= sam_age and ram_age >= khan_age:\n",
    "    eldest = \"Ram\"\n",
    "    if sam_age <= khan_age:\n",
    "        youngest = \"Sam\"\n",
    "    else:\n",
    "        youngest = \"Khan\"\n",
    "elif sam_age >= ram_age and sam_age >= khan_age:\n",
    "    eldest = \"Sam\"\n",
    "    if ram_age <= khan_age:\n",
    "        youngest = \"Ram\"\n",
    "    else:\n",
    "        youngest = \"Khan\"\n",
    "else:\n",
    "    eldest = \"Khan\"\n",
    "    if ram_age <= sam_age:\n",
    "        youngest = \"Ram\"\n",
    "    else:\n",
    "        youngest = \"Sam\"\n",
    "\n",
    "# Print the results\n",
    "print(f\"The eldest among Ram, Sam, and Khan is: {eldest}\")\n",
    "print(f\"The youngest among Ram, Sam, and Khan is: {youngest}\")"
   ]
  },
  {
   "cell_type": "markdown",
   "id": "1c1d1d6c",
   "metadata": {},
   "source": [
    "# Write a python program to rotate a list by right in times with and without slicing technique."
   ]
  },
  {
   "cell_type": "code",
   "execution_count": 62,
   "id": "21a29017",
   "metadata": {},
   "outputs": [
    {
     "name": "stdout",
     "output_type": "stream",
     "text": [
      "Enter the number of times to rotate to the right: 2\n",
      "Rotated list using slicing technique: [4, 5, 1, 2, 3]\n",
      "Enter the number of times to rotate to the right: 1\n",
      "Rotated list without slicing technique: [5, 1, 2, 3, 4]\n"
     ]
    }
   ],
   "source": [
    "def rotate_list_using_slicing(input_list, n):\n",
    "    if len(input_list) == 0:\n",
    "        return input_list\n",
    "    \n",
    "    n %= len(input_list)  # Ensure n is within the length of the list\n",
    "    rotated_list = input_list[-n:] + input_list[:-n]\n",
    "    return rotated_list\n",
    "\n",
    "# Input list\n",
    "my_list = [1, 2, 3, 4, 5]\n",
    "n = int(input(\"Enter the number of times to rotate to the right: \"))\n",
    "\n",
    "rotated_list = rotate_list_using_slicing(my_list, n)\n",
    "print(\"Rotated list using slicing technique:\", rotated_list)\n",
    "\n",
    "def rotate_list_without_slicing(input_list, n):\n",
    "    if len(input_list) == 0:\n",
    "        return input_list\n",
    "    \n",
    "    n %= len(input_list)  # Ensure n is within the length of the list\n",
    "    for _ in range(n):\n",
    "        temp = input_list.pop()\n",
    "        input_list.insert(0, temp)\n",
    "    return input_list\n",
    "\n",
    "# Input list\n",
    "my_list = [1, 2, 3, 4, 5]\n",
    "n = int(input(\"Enter the number of times to rotate to the right: \"))\n",
    "\n",
    "rotated_list = rotate_list_without_slicing(my_list, n)\n",
    "print(\"Rotated list without slicing technique:\", rotated_list)"
   ]
  },
  {
   "cell_type": "markdown",
   "id": "756db007",
   "metadata": {},
   "source": [
    "# Python program to print the patterns given below"
   ]
  },
  {
   "cell_type": "code",
   "execution_count": 64,
   "id": "a183b97b",
   "metadata": {},
   "outputs": [
    {
     "name": "stdout",
     "output_type": "stream",
     "text": [
      "Enter the number of rows: 7\n",
      "1 \n",
      "1 1 \n",
      "1 2 1 \n",
      "1 3 3 1 \n",
      "1 4 6 4 1 \n",
      "1 5 10 10 5 1 \n",
      "1 6 15 20 15 6 1 \n"
     ]
    }
   ],
   "source": [
    "n = int(input(\"Enter the number of rows: \"))\n",
    "\n",
    "def binomial_coefficient(n, k):\n",
    "    if k == 0 or k == n:\n",
    "        return 1\n",
    "    return binomial_coefficient(n - 1, k - 1) + binomial_coefficient(n - 1, k)\n",
    "\n",
    "for i in range(n):\n",
    "    for j in range(i + 1):\n",
    "        print(binomial_coefficient(i, j), end=\" \")\n",
    "    print()"
   ]
  },
  {
   "cell_type": "markdown",
   "id": "8e9d81ed",
   "metadata": {},
   "source": [
    "# Pattern program \n",
    "*\n",
    "* *\n",
    "* * *\n",
    "* * * *\n",
    "* * * * * "
   ]
  },
  {
   "cell_type": "code",
   "execution_count": 66,
   "id": "d8f39888",
   "metadata": {},
   "outputs": [
    {
     "name": "stdout",
     "output_type": "stream",
     "text": [
      "Object `program` not found.\n",
      "* \n",
      "* * \n",
      "* * * \n",
      "* * * * \n",
      "* * * * * \n",
      "Enter the number of rows: 6\n",
      "     * \n",
      "    * * \n",
      "   * * * \n",
      "  * * * * \n",
      " * * * * * \n",
      "* * * * * * \n",
      "\n",
      "P\n",
      "Py\n",
      "Pyt\n",
      "Pyth\n",
      "Pytho\n",
      "Python\n",
      "Python program\n"
     ]
    }
   ],
   "source": [
    "get_ipython().run_line_magic('pinfo', 'program')\n",
    "\n",
    "n = 5  # Number of rows\n",
    "\n",
    "for i in range(n):\n",
    "    # Inner loop for columns\n",
    "    for j in range(i + 1):\n",
    "        print(\"*\", end=\" \")\n",
    "    print()  # Move to the next line after each row\n",
    "\n",
    "\n",
    "3 # Input the number of rows for the pattern\n",
    "n = int(input(\"Enter the number of rows: \"))\n",
    "\n",
    "# Loop to print the pattern\n",
    "for i in range(1, n + 1):\n",
    "    print(\" \" * (n - i), end=\"\")  # Print spaces before asterisks\n",
    "    print(\"* \" * i)  # Print asterisks with a space in between\n",
    "\n",
    "\n",
    "# In[25]:\n",
    "\n",
    "\n",
    "word = \"Python\"\n",
    "for i in range(len(word) + 1):\n",
    "    print(word[:i])\n",
    "print(\"Python program\")"
   ]
  },
  {
   "cell_type": "code",
   "execution_count": null,
   "id": "1ebedadf",
   "metadata": {},
   "outputs": [],
   "source": []
  }
 ],
 "metadata": {
  "kernelspec": {
   "display_name": "Python 3 (ipykernel)",
   "language": "python",
   "name": "python3"
  },
  "language_info": {
   "codemirror_mode": {
    "name": "ipython",
    "version": 3
   },
   "file_extension": ".py",
   "mimetype": "text/x-python",
   "name": "python",
   "nbconvert_exporter": "python",
   "pygments_lexer": "ipython3",
   "version": "3.11.4"
  }
 },
 "nbformat": 4,
 "nbformat_minor": 5
}
