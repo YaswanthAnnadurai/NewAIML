{
 "cells": [
  {
   "cell_type": "markdown",
   "id": "5e123761",
   "metadata": {},
   "source": [
    "# Write a python function that copies a file reading and writing up to 50 characters at a time."
   ]
  },
  {
   "cell_type": "code",
   "execution_count": 14,
   "id": "272d8f72",
   "metadata": {},
   "outputs": [],
   "source": [
    "def copy_file_by_chunks(input_file, output_file):\n",
    "\n",
    "\n",
    "  with open('one.txt', \"r\") as f_in:\n",
    "    with open('two.txt', \"w\") as f_out:\n",
    "      chunk = f_in.read(50)\n",
    "      while chunk:\n",
    "        f_out.write(chunk)\n",
    "        chunk = f_in.read(50)\n",
    "        \n",
    "copy_file_by_chunks('one.txt', 'two.txt')"
   ]
  },
  {
   "cell_type": "code",
   "execution_count": null,
   "id": "696143a5",
   "metadata": {},
   "outputs": [],
   "source": []
  }
 ],
 "metadata": {
  "kernelspec": {
   "display_name": "Python 3 (ipykernel)",
   "language": "python",
   "name": "python3"
  },
  "language_info": {
   "codemirror_mode": {
    "name": "ipython",
    "version": 3
   },
   "file_extension": ".py",
   "mimetype": "text/x-python",
   "name": "python",
   "nbconvert_exporter": "python",
   "pygments_lexer": "ipython3",
   "version": "3.11.4"
  }
 },
 "nbformat": 4,
 "nbformat_minor": 5
}
