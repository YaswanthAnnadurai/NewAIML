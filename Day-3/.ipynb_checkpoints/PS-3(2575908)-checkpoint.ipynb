{
 "cells": [
  {
   "cell_type": "markdown",
   "id": "c6f6b5e3",
   "metadata": {},
   "source": [
    "# Write a function called sed that takes as arguments a pattern string, a replacement string. and two filenames; it should read the first file and write the contents into the second file (creating it if necessary). If the pattern string appears anywhere in the file, it should be replaced with the replacement string. If an error occurs while opening, reading, writing, or closing files, your program should catch the exception, print an error message, and exit."
   ]
  },
  {
   "cell_type": "code",
   "execution_count": 31,
   "id": "d0e8b41e",
   "metadata": {},
   "outputs": [
    {
     "ename": "NameError",
     "evalue": "name 'two' is not defined",
     "output_type": "error",
     "traceback": [
      "\u001b[1;31m---------------------------------------------------------------------------\u001b[0m",
      "\u001b[1;31mNameError\u001b[0m                                 Traceback (most recent call last)",
      "Cell \u001b[1;32mIn[31], line 16\u001b[0m\n\u001b[0;32m     13\u001b[0m     \u001b[38;5;28mprint\u001b[39m(\u001b[38;5;124mf\u001b[39m\u001b[38;5;124m\"\u001b[39m\u001b[38;5;124mError: \u001b[39m\u001b[38;5;132;01m{\u001b[39;00mE\u001b[38;5;132;01m}\u001b[39;00m\u001b[38;5;124m\"\u001b[39m)\n\u001b[0;32m     14\u001b[0m     exit(\u001b[38;5;241m1\u001b[39m)\n\u001b[1;32m---> 16\u001b[0m sed(\u001b[38;5;124m\"\u001b[39m\u001b[38;5;124mone\u001b[39m\u001b[38;5;124m\"\u001b[39m, \u001b[38;5;124m\"\u001b[39m\u001b[38;5;124mtwo\u001b[39m\u001b[38;5;124m\"\u001b[39m,\u001b[38;5;124m'\u001b[39m\u001b[38;5;124mone.txt\u001b[39m\u001b[38;5;124m'\u001b[39m,two\u001b[38;5;241m.\u001b[39mtxt)\n",
      "\u001b[1;31mNameError\u001b[0m: name 'two' is not defined"
     ]
    }
   ],
   "source": [
    "def sed(pattern, replacement, input_file, output_file):\n",
    "\n",
    "  try:\n",
    "    with open(input_file, \"r\") as f:\n",
    "      contents = f.read()\n",
    "\n",
    "    with open(output_file, \"w\") as f:\n",
    "      f.write(contents.replace(pattern, replacement))\n",
    "  except FileNotFoundError as e:\n",
    "    print(f\"Error: {e}\")\n",
    "    exit(1)\n",
    "  except Exception as e:\n",
    "    print(f\"Error: {E}\")\n",
    "    exit(1)\n",
    "\n",
    "sed(\"one\", \"two\",'one.txt',two.txt)"
   ]
  },
  {
   "cell_type": "code",
   "execution_count": null,
   "id": "0d949361",
   "metadata": {},
   "outputs": [],
   "source": []
  },
  {
   "cell_type": "code",
   "execution_count": null,
   "id": "c547a329",
   "metadata": {},
   "outputs": [],
   "source": []
  }
 ],
 "metadata": {
  "kernelspec": {
   "display_name": "Python 3 (ipykernel)",
   "language": "python",
   "name": "python3"
  },
  "language_info": {
   "codemirror_mode": {
    "name": "ipython",
    "version": 3
   },
   "file_extension": ".py",
   "mimetype": "text/x-python",
   "name": "python",
   "nbconvert_exporter": "python",
   "pygments_lexer": "ipython3",
   "version": "3.11.4"
  }
 },
 "nbformat": 4,
 "nbformat_minor": 5
}
