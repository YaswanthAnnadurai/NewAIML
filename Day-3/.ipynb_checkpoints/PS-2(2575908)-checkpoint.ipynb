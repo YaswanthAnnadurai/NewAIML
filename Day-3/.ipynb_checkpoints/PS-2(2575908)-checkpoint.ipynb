{
 "cells": [
  {
   "cell_type": "markdown",
   "id": "2ecdc1e2",
   "metadata": {},
   "source": [
    "# Print all numbers present in the text file and print the number of blank spaces in that file."
   ]
  },
  {
   "cell_type": "code",
   "execution_count": 1,
   "id": "7b49ffed",
   "metadata": {},
   "outputs": [],
   "source": [
    "file=open('one.txt','r')"
   ]
  },
  {
   "cell_type": "code",
   "execution_count": 2,
   "id": "2921df78",
   "metadata": {},
   "outputs": [
    {
     "data": {
      "text/plain": [
       "True"
      ]
     },
     "execution_count": 2,
     "metadata": {},
     "output_type": "execute_result"
    }
   ],
   "source": [
    "file.readable()"
   ]
  },
  {
   "cell_type": "code",
   "execution_count": 3,
   "id": "906827d1",
   "metadata": {},
   "outputs": [
    {
     "data": {
      "text/plain": [
       "'Python is a high-level, general-purpose programming language. Its design philosophy emphasizes code readability with the use of significant indentation.\\n\\nPython is dynamically typed and garbage-collected. It supports multiple programming paradigms, including structured (particularly procedural), object-oriented and functional programming. It is often described as a \"batteries included\" language due to its comprehensive standard library.\\nGuido van Rossum began working on Python in the late 1980s as a successor to the ABC programming language and first released it in 1991 as Python 0.9.0.Python 2.0 was released in 2000. Python 3.0, released in 2008, was a major revision not completely backward-compatible with earlier versions. Python 2.7.18, released in 2020, was the last release of Python 2.\\n\\nPython consistently ranks as one of the most popular programming languages.'"
      ]
     },
     "execution_count": 3,
     "metadata": {},
     "output_type": "execute_result"
    }
   ],
   "source": [
    "file.read()"
   ]
  },
  {
   "cell_type": "code",
   "execution_count": 4,
   "id": "ee6ff76e",
   "metadata": {},
   "outputs": [],
   "source": [
    "file.close()"
   ]
  },
  {
   "cell_type": "code",
   "execution_count": 28,
   "id": "1dd5f9e1",
   "metadata": {},
   "outputs": [
    {
     "name": "stdout",
     "output_type": "stream",
     "text": [
      "The digits in the text file are :  32\n",
      "The spaces in the text file are :  120\n"
     ]
    }
   ],
   "source": [
    "def num():\n",
    "    file=open('one.txt','r')\n",
    "    count1=0\n",
    "    count2=0\n",
    "    count=file.read()\n",
    "    for i in count:\n",
    "        if i.isdigit():\n",
    "            count1=count1+1\n",
    "        if i[0]== \" \":\n",
    "            count2=count2+1\n",
    "    print(\"The digits in the text file are : \",count1)\n",
    "    print(\"The spaces in the text file are : \",count2)\n",
    "    file.close()\n",
    "\n",
    "num() "
   ]
  },
  {
   "cell_type": "code",
   "execution_count": null,
   "id": "b006b7f4",
   "metadata": {},
   "outputs": [],
   "source": []
  }
 ],
 "metadata": {
  "kernelspec": {
   "display_name": "Python 3 (ipykernel)",
   "language": "python",
   "name": "python3"
  },
  "language_info": {
   "codemirror_mode": {
    "name": "ipython",
    "version": 3
   },
   "file_extension": ".py",
   "mimetype": "text/x-python",
   "name": "python",
   "nbconvert_exporter": "python",
   "pygments_lexer": "ipython3",
   "version": "3.11.4"
  }
 },
 "nbformat": 4,
 "nbformat_minor": 5
}
