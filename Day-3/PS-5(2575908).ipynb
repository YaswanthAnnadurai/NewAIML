{
 "cells": [
  {
   "cell_type": "markdown",
   "id": "bc77de40",
   "metadata": {},
   "source": [
    "# Text File Search and Replace: You have a text file with a large amount of text, and you want to search for specific words or phrases and replace them with new content. a. Write Python code to search for and replace text within a text file.\n"
   ]
  },
  {
   "cell_type": "code",
   "execution_count": 23,
   "id": "99dbf841",
   "metadata": {},
   "outputs": [
    {
     "name": "stdout",
     "output_type": "stream",
     "text": [
      "Text 'Author' replaced with 'Yaswanth' successfully.\n"
     ]
    }
   ],
   "source": [
    "def search_and_replace(input_file, output_file, search_text, replace_text):\n",
    "    try:\n",
    "        with open(input_file, 'r') as infile, open(output_file, 'w') as outfile:\n",
    "            for line in infile:\n",
    "                modified_line = line.replace(search_text, replace_text)\n",
    "                outfile.write(modified_line)\n",
    "    \n",
    "    except FileNotFoundError:\n",
    "        print(f\"Error: Input file '{input_file}' not found.\")\n",
    "    except Exception as e:\n",
    "        print(f\"An error occurred: {e}\")\n",
    "    else:\n",
    "        print(f\"Text '{search_text}' replaced with '{replace_text}' successfully.\")\n",
    "\n",
    "search_and_replace(\"one.txt\",\"two.txt\",\"Author\",\"Yaswanth\")"
   ]
  },
  {
   "cell_type": "markdown",
   "id": "66a789cd",
   "metadata": {},
   "source": [
    "# b. How would you handle cases where you need to perform multiple replacements in a single pass?"
   ]
  },
  {
   "cell_type": "code",
   "execution_count": 1,
   "id": "395b7e21",
   "metadata": {},
   "outputs": [
    {
     "name": "stdout",
     "output_type": "stream",
     "text": [
      "Multiple replacements completed successfully.\n"
     ]
    }
   ],
   "source": [
    "def search_and_replace_multiple(input_file, output_file, replace_dict):\n",
    "    try:\n",
    "        with open(input_file, 'r') as infile, open(output_file, 'w') as outfile:\n",
    "            for line in infile:\n",
    "                for search_text, replace_text in replace_dict.items():\n",
    "                    line = line.replace(search_text, replace_text)\n",
    "                outfile.write(line)\n",
    "    \n",
    "    except FileNotFoundError:\n",
    "        print(f\"Error: Input file '{input_file}' not found.\")\n",
    "    except Exception as e:\n",
    "        print(f\"An error occurred: {e}\")\n",
    "    else:\n",
    "        print(\"Multiple replacements completed successfully.\")\n",
    "\n",
    "replace_dict = {\n",
    "    \"Guido van Rossum\": \"Achuthan Suresh\",\n",
    "    \"Centrum Wiskunde & Informatica\": \"MPHASIS\",\n",
    "    }\n",
    "\n",
    "search_and_replace_multiple(\"one.txt\", \"two.txt\", replace_dict)"
   ]
  },
  {
   "cell_type": "code",
   "execution_count": null,
   "id": "58431774",
   "metadata": {},
   "outputs": [],
   "source": []
  }
 ],
 "metadata": {
  "kernelspec": {
   "display_name": "Python 3 (ipykernel)",
   "language": "python",
   "name": "python3"
  },
  "language_info": {
   "codemirror_mode": {
    "name": "ipython",
    "version": 3
   },
   "file_extension": ".py",
   "mimetype": "text/x-python",
   "name": "python",
   "nbconvert_exporter": "python",
   "pygments_lexer": "ipython3",
   "version": "3.11.4"
  }
 },
 "nbformat": 4,
 "nbformat_minor": 5
}
