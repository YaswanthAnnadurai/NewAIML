{
 "cells": [
  {
   "cell_type": "markdown",
   "id": "8ce2cb26",
   "metadata": {},
   "source": [
    "# Write a python script to create a class \"Person\" with private attributes for age and name. Implement a method to calculate a person's eligibility for voting based on their age. Ensure that age cannot be accessed directly but only through a getter method."
   ]
  },
  {
   "cell_type": "code",
   "execution_count": 4,
   "id": "8ca261e7",
   "metadata": {},
   "outputs": [
    {
     "name": "stdout",
     "output_type": "stream",
     "text": [
      "Name: Yaswanth\n",
      "Age: 22\n",
      "\n",
      "Is eligible to vote?  True\n"
     ]
    }
   ],
   "source": [
    "class Person:\n",
    "    def __init__(self, name, age):\n",
    "        self.__name = name  \n",
    "        self.__age = age    \n",
    "    def get_age(self):\n",
    "        return self.__age\n",
    "    def is_eligible_to_vote(self):\n",
    "        if self.__age >= 18:\n",
    "            return True\n",
    "        else:\n",
    "            return False\n",
    "    def get_name(self):\n",
    "        return self.__name\n",
    "    \n",
    "person1 = Person(\"Yaswanth\",22)\n",
    "print(f\"Name: {person1.get_name()}\")\n",
    "print(f\"Age: {person1.get_age()}\")\n",
    "print()\n",
    "print(f\"Is eligible to vote?  {person1.is_eligible_to_vote()}\")"
   ]
  },
  {
   "cell_type": "code",
   "execution_count": null,
   "id": "d9c378a5",
   "metadata": {},
   "outputs": [],
   "source": []
  }
 ],
 "metadata": {
  "kernelspec": {
   "display_name": "Python 3 (ipykernel)",
   "language": "python",
   "name": "python3"
  },
  "language_info": {
   "codemirror_mode": {
    "name": "ipython",
    "version": 3
   },
   "file_extension": ".py",
   "mimetype": "text/x-python",
   "name": "python",
   "nbconvert_exporter": "python",
   "pygments_lexer": "ipython3",
   "version": "3.11.4"
  }
 },
 "nbformat": 4,
 "nbformat_minor": 5
}
