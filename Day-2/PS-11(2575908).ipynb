{
 "cells": [
  {
   "cell_type": "markdown",
   "id": "bb18491d",
   "metadata": {},
   "source": [
    "# Write a Python Function to display all integers within the range 200-300 whose sum of digits is an even number."
   ]
  },
  {
   "cell_type": "code",
   "execution_count": 1,
   "id": "5c1cdafd",
   "metadata": {},
   "outputs": [
    {
     "name": "stdout",
     "output_type": "stream",
     "text": [
      "enter the start range: 50\n",
      "enter the end range: 100\n",
      "Integers in the range  {50} - {100} whose sum of digits is even:\n",
      "[51, 53, 55, 57, 59, 60, 62, 64, 66, 68, 71, 73, 75, 77, 79, 80, 82, 84, 86, 88, 91, 93, 95, 97, 99]\n"
     ]
    }
   ],
   "source": [
    "def sum_of_digits_even(num):\n",
    "    digit_sum = sum(int(digit) for digit in str(num))\n",
    "    return digit_sum % 2 == 0\n",
    "def find_integers_with_even_digit_sum(start, end):\n",
    "    result = []\n",
    "    for num in range(start, end + 1):\n",
    "        if sum_of_digits_even(num):\n",
    "            result.append(num)\n",
    "    return result\n",
    "start_range = int(input(\"enter the start range: \"))\n",
    "end_range =  int(input(\"enter the end range: \"))\n",
    "integers_with_even_digit_sum = find_integers_with_even_digit_sum(start_range, end_range)\n",
    "print(\"Integers in the range \",{start_range},\"-\",{end_range} ,\"whose sum of digits is even:\")\n",
    "print(integers_with_even_digit_sum)"
   ]
  },
  {
   "cell_type": "code",
   "execution_count": null,
   "id": "04ce0594",
   "metadata": {},
   "outputs": [],
   "source": []
  }
 ],
 "metadata": {
  "kernelspec": {
   "display_name": "Python 3 (ipykernel)",
   "language": "python",
   "name": "python3"
  },
  "language_info": {
   "codemirror_mode": {
    "name": "ipython",
    "version": 3
   },
   "file_extension": ".py",
   "mimetype": "text/x-python",
   "name": "python",
   "nbconvert_exporter": "python",
   "pygments_lexer": "ipython3",
   "version": "3.11.4"
  }
 },
 "nbformat": 4,
 "nbformat_minor": 5
}
