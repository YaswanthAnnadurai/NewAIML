{
 "cells": [
  {
   "cell_type": "markdown",
   "id": "fa70cc94",
   "metadata": {},
   "source": [
    "# Write and run a Python program that asks the user to enter 8 integers (one at a time), and then prints out how many of those integers were even numbers. For example, if the user entered 19, 6, 9, 20, 13, 7, 6, and 1, then your program should print out 3 since 3 of those numbers were even."
   ]
  },
  {
   "cell_type": "code",
   "execution_count": 1,
   "id": "2a0d44d8",
   "metadata": {},
   "outputs": [
    {
     "name": "stdout",
     "output_type": "stream",
     "text": [
      "Enter integer 1: 19\n",
      "Enter integer 2: 6\n",
      "Enter integer 3: 9\n",
      "Enter integer 4: 20\n",
      "Enter integer 5: 13\n",
      "Enter integer 6: 7\n",
      "Enter integer 7: 6\n",
      "Enter integer 8: 1\n",
      "Number of even integers entered: 3\n"
     ]
    }
   ],
   "source": [
    "even_count = 0\n",
    "for i in range(8):\n",
    "    try:\n",
    "        num = int(input(f\"Enter integer {i + 1}: \"))\n",
    "        if num % 2 == 0:\n",
    "            even_count += 1\n",
    "    except ValueError:\n",
    "        print(\"Invalid input. Please enter an integer.\")\n",
    "print(f\"Number of even integers entered: {even_count}\")"
   ]
  },
  {
   "cell_type": "code",
   "execution_count": null,
   "id": "a6c4672e",
   "metadata": {},
   "outputs": [],
   "source": []
  }
 ],
 "metadata": {
  "kernelspec": {
   "display_name": "Python 3 (ipykernel)",
   "language": "python",
   "name": "python3"
  },
  "language_info": {
   "codemirror_mode": {
    "name": "ipython",
    "version": 3
   },
   "file_extension": ".py",
   "mimetype": "text/x-python",
   "name": "python",
   "nbconvert_exporter": "python",
   "pygments_lexer": "ipython3",
   "version": "3.11.4"
  }
 },
 "nbformat": 4,
 "nbformat_minor": 5
}
