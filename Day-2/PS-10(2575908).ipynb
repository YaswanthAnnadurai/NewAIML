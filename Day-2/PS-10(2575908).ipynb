{
 "cells": [
  {
   "cell_type": "markdown",
   "id": "a92b6941",
   "metadata": {},
   "source": [
    "# Python program to display the given integer in reverse order using the function without an in-built function."
   ]
  },
  {
   "cell_type": "code",
   "execution_count": 17,
   "id": "d12f0e4a",
   "metadata": {},
   "outputs": [],
   "source": [
    "def reverse_integer(n):\n",
    "  rev_num = 0\n",
    "  while n > 0:\n",
    "    rev_num = rev_num * 10 + n % 10\n",
    "    n //= 10\n",
    "  return rev_num\n",
    "\n",
    "  n = int(input(\"Enter an integer: \"))\n",
    "  reversed_number = reverse_integer(n)\n",
    "  print(\"The reversed integer is:\", reverse_integer(n))"
   ]
  },
  {
   "cell_type": "code",
   "execution_count": null,
   "id": "57b005c2",
   "metadata": {},
   "outputs": [],
   "source": []
  }
 ],
 "metadata": {
  "kernelspec": {
   "display_name": "Python 3 (ipykernel)",
   "language": "python",
   "name": "python3"
  },
  "language_info": {
   "codemirror_mode": {
    "name": "ipython",
    "version": 3
   },
   "file_extension": ".py",
   "mimetype": "text/x-python",
   "name": "python",
   "nbconvert_exporter": "python",
   "pygments_lexer": "ipython3",
   "version": "3.11.4"
  }
 },
 "nbformat": 4,
 "nbformat_minor": 5
}
