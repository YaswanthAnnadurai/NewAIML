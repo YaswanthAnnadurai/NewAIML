{
 "cells": [
  {
   "cell_type": "markdown",
   "id": "17ce51c4",
   "metadata": {},
   "source": [
    "#  To write a Python program to compute matrix multiplication."
   ]
  },
  {
   "cell_type": "code",
   "execution_count": 1,
   "id": "618df732",
   "metadata": {},
   "outputs": [
    {
     "name": "stdout",
     "output_type": "stream",
     "text": [
      "Enter the number of rows for matrix A: 3\n",
      "Enter the number of columns for matrix A: 3\n",
      "Enter the elements of matrix A:\n",
      "Enter element A[1][1]: 1\n",
      "Enter element A[1][2]: 2\n",
      "Enter element A[1][3]: 3\n",
      "Enter element A[2][1]: 4\n",
      "Enter element A[2][2]: 5\n",
      "Enter element A[2][3]: 6\n",
      "Enter element A[3][1]: 7\n",
      "Enter element A[3][2]: 8\n",
      "Enter element A[3][3]: 9\n",
      "Enter the number of rows for matrix B: 3\n",
      "Enter the number of columns for matrix B: 3\n",
      "Enter the elements of matrix B:\n",
      "Enter element B[1][1]: 3\n",
      "Enter element B[1][2]: 2\n",
      "Enter element B[1][3]: 1\n",
      "Enter element B[2][1]: 6\n",
      "Enter element B[2][2]: 5\n",
      "Enter element B[2][3]: 4\n",
      "Enter element B[3][1]: 9\n",
      "Enter element B[3][2]: 8\n",
      "Enter element B[3][3]: 7\n",
      "\n",
      "Result of matrix multiplication (A x B):\n",
      "42.0 36.0 30.0\n",
      "96.0 81.0 66.0\n",
      "150.0 126.0 102.0\n"
     ]
    }
   ],
   "source": [
    "def matrix_multiply(A, B):\n",
    "    if len(A[0]) != len(B):\n",
    "        raise ValueError(\"Number of columns in A must be equal to the number of rows in B\")\n",
    "    \n",
    "    result = []\n",
    "    for i in range(len(A)):\n",
    "        row = []\n",
    "        for j in range(len(B[0])):\n",
    "            product = 0\n",
    "            for k in range(len(B)):\n",
    "                product += A[i][k] * B[k][j]\n",
    "            row.append(product)\n",
    "        result.append(row)\n",
    "    return result\n",
    "def print_matrix(matrix):\n",
    "    for row in matrix:\n",
    "        print(\" \".join(str(element) for element in row))\n",
    "\n",
    "try:\n",
    "    m = int(input(\"Enter the number of rows for matrix A: \"))\n",
    "    n = int(input(\"Enter the number of columns for matrix A: \"))\n",
    "    A = []\n",
    "    print(\"Enter the elements of matrix A:\")\n",
    "    for i in range(m):\n",
    "        row = []\n",
    "        for j in range(n):\n",
    "            element = float(input(f\"Enter element A[{i+1}][{j+1}]: \"))\n",
    "            row.append(element)\n",
    "        A.append(row)\n",
    "\n",
    "    p = int(input(\"Enter the number of rows for matrix B: \"))\n",
    "    q = int(input(\"Enter the number of columns for matrix B: \"))\n",
    "    B = []\n",
    "    print(\"Enter the elements of matrix B:\")\n",
    "    for i in range(p):\n",
    "        row = []\n",
    "        for j in range(q):\n",
    "            element = float(input(f\"Enter element B[{i+1}][{j+1}]: \"))\n",
    "            row.append(element)\n",
    "        B.append(row)\n",
    "    if n != p:\n",
    "        raise ValueError(\"Number of columns in A must be equal to the number of rows in B\")\n",
    "\n",
    "    result = matrix_multiply(A, B)\n",
    "    print(\"\\nResult of matrix multiplication (A x B):\")\n",
    "    print_matrix(result)\n",
    "\n",
    "except ValueError as e:\n",
    "    print(f\"Error: {e}\")\n",
    "except KeyboardInterrupt:\n",
    "    print(\"\\nMatrix multiplication program was interrupted.\")"
   ]
  },
  {
   "cell_type": "code",
   "execution_count": null,
   "id": "1fb39b8c",
   "metadata": {},
   "outputs": [],
   "source": []
  }
 ],
 "metadata": {
  "kernelspec": {
   "display_name": "Python 3 (ipykernel)",
   "language": "python",
   "name": "python3"
  },
  "language_info": {
   "codemirror_mode": {
    "name": "ipython",
    "version": 3
   },
   "file_extension": ".py",
   "mimetype": "text/x-python",
   "name": "python",
   "nbconvert_exporter": "python",
   "pygments_lexer": "ipython3",
   "version": "3.11.4"
  }
 },
 "nbformat": 4,
 "nbformat_minor": 5
}
