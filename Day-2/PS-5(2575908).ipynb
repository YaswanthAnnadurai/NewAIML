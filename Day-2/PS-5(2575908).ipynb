{
 "cells": [
  {
   "cell_type": "markdown",
   "id": "92609755",
   "metadata": {},
   "source": [
    "# To write a Python program to find first 'n' prime numbers from a list of given numbers."
   ]
  },
  {
   "cell_type": "code",
   "execution_count": 1,
   "id": "faf0b65c",
   "metadata": {},
   "outputs": [
    {
     "name": "stdout",
     "output_type": "stream",
     "text": [
      "[2, 3, 5, 7, 11]\n"
     ]
    }
   ],
   "source": [
    "def prime(n):\n",
    "    if n <= 1:\n",
    "        return False\n",
    "    for i in range(2, int(n ** 0.5) + 1):\n",
    "        if n % i == 0:\n",
    "            return False\n",
    "    return True\n",
    "\n",
    "def find_primes(n, nums):\n",
    "    primes = []\n",
    "    for i, num in enumerate(nums):\n",
    "        if prime(num):\n",
    "            primes.append(num)\n",
    "            if len(primes) == n:\n",
    "                break\n",
    "    return primes\n",
    "\n",
    "nums = [2, 3, 5, 7, 11, 13, 17, 19, 23, 29]\n",
    "print(find_primes(5, nums))"
   ]
  },
  {
   "cell_type": "code",
   "execution_count": null,
   "id": "c2e05cfb",
   "metadata": {},
   "outputs": [],
   "source": []
  }
 ],
 "metadata": {
  "kernelspec": {
   "display_name": "Python 3 (ipykernel)",
   "language": "python",
   "name": "python3"
  },
  "language_info": {
   "codemirror_mode": {
    "name": "ipython",
    "version": 3
   },
   "file_extension": ".py",
   "mimetype": "text/x-python",
   "name": "python",
   "nbconvert_exporter": "python",
   "pygments_lexer": "ipython3",
   "version": "3.11.4"
  }
 },
 "nbformat": 4,
 "nbformat_minor": 5
}
