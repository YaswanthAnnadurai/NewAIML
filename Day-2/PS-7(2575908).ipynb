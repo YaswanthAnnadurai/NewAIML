{
 "cells": [
  {
   "cell_type": "markdown",
   "id": "ff00de9b",
   "metadata": {},
   "source": [
    "# Write a python Function to count the number of vowels in a string."
   ]
  },
  {
   "cell_type": "code",
   "execution_count": 2,
   "id": "ca8b6bd7",
   "metadata": {},
   "outputs": [
    {
     "name": "stdout",
     "output_type": "stream",
     "text": [
      "Number of vowels in 'Welcome To Python': 5\n"
     ]
    }
   ],
   "source": [
    "def vowels(string):\n",
    "    vowels = set(\"aeiouAEIOU\")\n",
    "    vowel_count = 0\n",
    "    for char in string:\n",
    "        if char in vowels:\n",
    "            vowel_count += 1\n",
    "    return vowel_count\n",
    "input_string = \"Welcome To Python\"\n",
    "result =vowels(input_string)\n",
    "print(f\"Number of vowels in '{input_string}': {result}\")"
   ]
  },
  {
   "cell_type": "code",
   "execution_count": null,
   "id": "18eadd2e",
   "metadata": {},
   "outputs": [],
   "source": []
  }
 ],
 "metadata": {
  "kernelspec": {
   "display_name": "Python 3 (ipykernel)",
   "language": "python",
   "name": "python3"
  },
  "language_info": {
   "codemirror_mode": {
    "name": "ipython",
    "version": 3
   },
   "file_extension": ".py",
   "mimetype": "text/x-python",
   "name": "python",
   "nbconvert_exporter": "python",
   "pygments_lexer": "ipython3",
   "version": "3.11.4"
  }
 },
 "nbformat": 4,
 "nbformat_minor": 5
}
