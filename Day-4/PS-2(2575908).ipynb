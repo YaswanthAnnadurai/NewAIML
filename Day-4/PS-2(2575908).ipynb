{
 "cells": [
  {
   "cell_type": "markdown",
   "id": "e3185cb5",
   "metadata": {},
   "source": [
    "# Write a python program with Exception handling to input electricity unit charges and calculate the total electricity bill according to the given condition:                                                                                                                 i) For the first 50 units Rs. 0.50/unit                                                                      ii) For the next 100 units Rs. 0.75/unit                                                                  iii) For the next 100 units Rs. 1.20/unit                                                                iv) For units above 250 Rs. 1.50/unit                                                                    v) An additional surcharge of 20% is added to the bill."
   ]
  },
  {
   "cell_type": "code",
   "execution_count": 2,
   "id": "99a7f874",
   "metadata": {},
   "outputs": [
    {
     "name": "stdout",
     "output_type": "stream",
     "text": [
      "Enter electricity units consumed: 660\n",
      "Total electricity bill: Rs. 1002.00\n"
     ]
    }
   ],
   "source": [
    "try:\n",
    "    units = int(input(\"Enter electricity units consumed: \"))\n",
    "    if units <= 50:\n",
    "        total_bill = units * 0.50\n",
    "    elif units <= 150:\n",
    "        total_bill = 50 * 0.50 + (units - 50) * 0.75\n",
    "    elif units <= 250:\n",
    "        total_bill = 50 * 0.50 + 100 * 0.75 + (units - 150) * 1.20\n",
    "    else:\n",
    "        total_bill = 50 * 0.50 + 100 * 0.75 + 100 * 1.20 + (units - 250) * 1.50\n",
    "    surcharge = 0.20 * total_bill\n",
    "    total_bill += surcharge\n",
    "    print(f\"Total electricity bill: Rs. {total_bill:.2f}\")\n",
    "except ValueError:\n",
    "    print(\"Invalid input. Please enter valid numerical units.\")\n",
    "except Exception as e:\n",
    "    print(f\"An error occurred: {str(e)}\")"
   ]
  },
  {
   "cell_type": "code",
   "execution_count": null,
   "id": "9d823a37",
   "metadata": {},
   "outputs": [],
   "source": []
  }
 ],
 "metadata": {
  "kernelspec": {
   "display_name": "Python 3 (ipykernel)",
   "language": "python",
   "name": "python3"
  },
  "language_info": {
   "codemirror_mode": {
    "name": "ipython",
    "version": 3
   },
   "file_extension": ".py",
   "mimetype": "text/x-python",
   "name": "python",
   "nbconvert_exporter": "python",
   "pygments_lexer": "ipython3",
   "version": "3.11.4"
  }
 },
 "nbformat": 4,
 "nbformat_minor": 5
}
