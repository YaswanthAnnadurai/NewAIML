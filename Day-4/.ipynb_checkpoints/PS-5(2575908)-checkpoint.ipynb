{
 "cells": [
  {
   "cell_type": "markdown",
   "id": "89a68674",
   "metadata": {},
   "source": [
    "# Write a Python program for finding the most frequent words in a text read from a file.                                                                                                               1) Initially open the text file in read mode.                                                              2) Make all the letters in the document into lowercase letters and split the words in each line                                                                                                     3)Get the words in an order                                                                                      4) Sort the words for finding the most frequent words in the file.                 5)Post the mid free wots in the file"
   ]
  },
  {
   "cell_type": "code",
   "execution_count": 4,
   "id": "ca5fec1c",
   "metadata": {},
   "outputs": [
    {
     "name": "stdout",
     "output_type": "stream",
     "text": [
      "Top 20 most frequent words:\n",
      "python: 8\n",
      "the: 5\n",
      "in: 5\n",
      "a: 4\n",
      "programming: 4\n",
      "as: 4\n",
      "released: 4\n",
      "is: 3\n",
      "of: 3\n",
      "and: 3\n",
      "it: 3\n",
      "was: 3\n",
      "its: 2\n",
      "with: 2\n",
      "language: 2\n",
      "to: 2\n",
      "high-level,: 1\n",
      "general-purpose: 1\n",
      "language.: 1\n",
      "design: 1\n"
     ]
    }
   ],
   "source": [
    "from collections import Counter\n",
    "\n",
    "def find_most_frequent_words(file_path, num_words):\n",
    "    try:\n",
    "        with open('one.txt', 'r') as file:\n",
    "            text = file.read().lower()\n",
    "            words = text.split()\n",
    "\n",
    "            word_counts = Counter(words)\n",
    "\n",
    "            sorted_words = sorted(word_counts.items(), key=lambda x: x[1], reverse=True)\n",
    "\n",
    "            print(f\"Top {num_words} most frequent words:\")\n",
    "            for word, count in sorted_words[:num_words]:\n",
    "                print(f\"{word}: {count}\")\n",
    "    except FileNotFoundError:\n",
    "        print(f\"File not found: {file_path}\")\n",
    "    except Exception as e:\n",
    "        print(f\"An error occurred: {e}\")\n",
    "\n",
    "if __name__ == \"__main__\":\n",
    "    file_path = \"one.txt\" \n",
    "    num_words = 10  \n",
    "find_most_frequent_words('one.txt',20)"
   ]
  },
  {
   "cell_type": "code",
   "execution_count": null,
   "id": "cee0c4fa",
   "metadata": {},
   "outputs": [],
   "source": []
  }
 ],
 "metadata": {
  "kernelspec": {
   "display_name": "Python 3 (ipykernel)",
   "language": "python",
   "name": "python3"
  },
  "language_info": {
   "codemirror_mode": {
    "name": "ipython",
    "version": 3
   },
   "file_extension": ".py",
   "mimetype": "text/x-python",
   "name": "python",
   "nbconvert_exporter": "python",
   "pygments_lexer": "ipython3",
   "version": "3.11.4"
  }
 },
 "nbformat": 4,
 "nbformat_minor": 5
}
