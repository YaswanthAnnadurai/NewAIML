{
 "cells": [
  {
   "cell_type": "markdown",
   "id": "afad26db",
   "metadata": {},
   "source": [
    "# Write a python program with Exception handling to input marks for five subjects Physics, Chemistry, Biology, Mathematics, and Computer. Calculate the percentage and grade according to the following:                        Percentage >90% : Grade A                                                                                   ii) Percentage >= 80%: Grade B Percentage >= 70% : Grade C                        iv) Percentage >= 60% : Grade D                                                                          v) Percentage >= 40%: Grade E                                                                           vi) Percentage < 40% : Grade F"
   ]
  },
  {
   "cell_type": "code",
   "execution_count": 1,
   "id": "8a59d5b7",
   "metadata": {},
   "outputs": [
    {
     "name": "stdout",
     "output_type": "stream",
     "text": [
      "Enter Physics marks: 86\n",
      "Enter Chemistry marks: 92\n",
      "Enter Biology marks: 80\n",
      "Enter Mathematics marks: 100\n",
      "Enter Computer marks: 100\n",
      "Percentage: 91.60%\n",
      "Grade: Grade A\n"
     ]
    }
   ],
   "source": [
    "try:\n",
    "    physics = int(input(\"Enter Physics marks: \"))\n",
    "    chemistry = int(input(\"Enter Chemistry marks: \"))\n",
    "    biology = int(input(\"Enter Biology marks: \"))\n",
    "    mathematics = int(input(\"Enter Mathematics marks: \"))\n",
    "    computer = int(input(\"Enter Computer marks: \"))\n",
    "    total_marks = physics + chemistry + biology + mathematics + computer\n",
    "    percentage = (total_marks / 500) * 100\n",
    "    if percentage > 90:\n",
    "        grade = \"Grade A\"\n",
    "    elif percentage >= 80:\n",
    "        grade = \"Grade B\"\n",
    "    elif percentage >= 70:\n",
    "        grade = \"Grade C\"\n",
    "    elif percentage >= 60:\n",
    "        grade = \"Grade D\"\n",
    "    elif percentage >= 40:\n",
    "        grade = \"Grade E\"\n",
    "    else:\n",
    "        grade = \"Grade F\"\n",
    "    print(f\"Percentage: {percentage:.2f}%\")\n",
    "    print(f\"Grade: {grade}\")\n",
    "except ValueError:\n",
    "    print(\"Invalid input. Please enter valid numerical marks.\")\n",
    "except Exception as e:\n",
    "    print(f\"An error occurred: {str(e)}\")"
   ]
  },
  {
   "cell_type": "code",
   "execution_count": null,
   "id": "0fb524dc",
   "metadata": {},
   "outputs": [],
   "source": []
  }
 ],
 "metadata": {
  "kernelspec": {
   "display_name": "Python 3 (ipykernel)",
   "language": "python",
   "name": "python3"
  },
  "language_info": {
   "codemirror_mode": {
    "name": "ipython",
    "version": 3
   },
   "file_extension": ".py",
   "mimetype": "text/x-python",
   "name": "python",
   "nbconvert_exporter": "python",
   "pygments_lexer": "ipython3",
   "version": "3.11.4"
  }
 },
 "nbformat": 4,
 "nbformat_minor": 5
}
