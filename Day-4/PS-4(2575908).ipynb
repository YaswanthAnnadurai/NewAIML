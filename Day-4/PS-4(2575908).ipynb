{
 "cells": [
  {
   "cell_type": "markdown",
   "id": "973ffaab",
   "metadata": {},
   "source": [
    "# Write a Python program to implement word count using command line arguments.1)Create a text document \"apple.txt\" whch contains text for wordcount                                                                                                       2)Create a wordcount program which calls the \"apple.txt\" document by opening the file.                                                                                                     3)If the word is present again in the \"aaple.txt\",the wordcount is incremented by 1 until all the words are counted in the document                                   4)Close the file.                                                                                            5)Create a command.py program which imports the wordcount py program 6)Count the number of words using command line arguments                      7)Print cach word and its count"
   ]
  },
  {
   "cell_type": "code",
   "execution_count": null,
   "id": "9e252d6e",
   "metadata": {},
   "outputs": [],
   "source": [
    "def count_words(file_path):\n",
    "    word_count = {}\n",
    "\n",
    "    try:\n",
    "        with open(file_path, 'r') as file:\n",
    "            for line in file:\n",
    "                words = line.split()\n",
    "                for word in words:\n",
    "                    # Remove punctuation and convert to lowercase for better counting accuracy\n",
    "                    word = word.strip('.,!?()[]{}\"\\'').lower()\n",
    "                    if word:\n",
    "                        word_count[word] = word_count.get(word, 0) + 1\n",
    "\n",
    "    except FileNotFoundError:\n",
    "        print(f\"File not found: {file_path}\")\n",
    "    except Exception as e:\n",
    "        print(f\"An error occurred: {e}\")\n",
    "\n",
    "    return word_count\n",
    "\n",
    "if __name__ == \"__main__\":\n",
    "    file_path = \"apple.txt\"\n",
    "    word_count_result = count_words(file_path)\n",
    "    print(word_count_result)"
   ]
  },
  {
   "cell_type": "code",
   "execution_count": null,
   "id": "6ffbae71",
   "metadata": {},
   "outputs": [],
   "source": [
    "import sys\n",
    "from wordcount import count_words\n",
    "\n",
    "if _name_ == \"__main__\":\n",
    "    if len(sys.argv) != 2:\n",
    "        print(\"Usage: python command.py <file_path>\")\n",
    "    else:\n",
    "        file_path = sys.argv[1]\n",
    "        word_count_result = count_words(file_path)\n",
    "\n",
    "        for word, count in word_count_result.items():\n",
    "            print(f\"{word}: {count}\")"
   ]
  }
 ],
 "metadata": {
  "kernelspec": {
   "display_name": "Python 3 (ipykernel)",
   "language": "python",
   "name": "python3"
  },
  "language_info": {
   "codemirror_mode": {
    "name": "ipython",
    "version": 3
   },
   "file_extension": ".py",
   "mimetype": "text/x-python",
   "name": "python",
   "nbconvert_exporter": "python",
   "pygments_lexer": "ipython3",
   "version": "3.11.4"
  }
 },
 "nbformat": 4,
 "nbformat_minor": 5
}
