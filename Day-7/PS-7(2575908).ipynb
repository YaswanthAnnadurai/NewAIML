{
 "cells": [
  {
   "cell_type": "markdown",
   "id": "84b25e48",
   "metadata": {},
   "source": [
    "# Write a python program to implement the various operations for Stack ADT\n",
    "i.) Push ii.) Pop iii.) Display."
   ]
  },
  {
   "cell_type": "code",
   "execution_count": 2,
   "id": "a16ab329",
   "metadata": {},
   "outputs": [],
   "source": [
    "class Stack:\n",
    "    def __init__(self):\n",
    "        self.items = []\n",
    "\n",
    "    def is_empty(self):\n",
    "        return len(self.items) == 0\n",
    "\n",
    "    def push(self, item):\n",
    "        self.items.append(item)\n",
    "\n",
    "    def pop(self):\n",
    "        if not self.is_empty():\n",
    "            return self.items.pop()\n",
    "        else:\n",
    "            return None  # Stack is empty\n",
    "\n",
    "    def display(self):\n",
    "        if not self.is_empty():\n",
    "            for item in reversed(self.items):\n",
    "                print(item)\n",
    "        else:\n",
    "            print(\"Stack is empty\")\n",
    "stack = Stack()"
   ]
  },
  {
   "cell_type": "code",
   "execution_count": 3,
   "id": "1ff32f23",
   "metadata": {},
   "outputs": [
    {
     "name": "stdout",
     "output_type": "stream",
     "text": [
      "Stack elements:\n",
      "100\n",
      "49\n",
      "70\n",
      "Popped item: 100\n",
      "Stack elements after popping:\n",
      "49\n",
      "70\n"
     ]
    }
   ],
   "source": [
    "stack.push(70)\n",
    "stack.push(49)\n",
    "stack.push(100)\n",
    "\n",
    "print(\"Stack elements:\")\n",
    "stack.display()\n",
    "\n",
    "popped_item = stack.pop()\n",
    "if popped_item is not None:\n",
    "    print(f\"Popped item: {popped_item}\")\n",
    "else:\n",
    "    print(\"Stack is empty\")\n",
    "\n",
    "print(\"Stack elements after popping:\")\n",
    "stack.display()"
   ]
  },
  {
   "cell_type": "code",
   "execution_count": 4,
   "id": "fce0d376",
   "metadata": {},
   "outputs": [
    {
     "data": {
      "text/plain": [
       "49"
      ]
     },
     "execution_count": 4,
     "metadata": {},
     "output_type": "execute_result"
    }
   ],
   "source": [
    "stack.pop()"
   ]
  },
  {
   "cell_type": "code",
   "execution_count": 5,
   "id": "bed4bd2a",
   "metadata": {},
   "outputs": [],
   "source": [
    "stack.push(30)"
   ]
  },
  {
   "cell_type": "code",
   "execution_count": 6,
   "id": "d87d78a0",
   "metadata": {},
   "outputs": [
    {
     "name": "stdout",
     "output_type": "stream",
     "text": [
      "30\n",
      "70\n"
     ]
    }
   ],
   "source": [
    "stack.display()"
   ]
  },
  {
   "cell_type": "code",
   "execution_count": null,
   "id": "3db12c06",
   "metadata": {},
   "outputs": [],
   "source": []
  }
 ],
 "metadata": {
  "kernelspec": {
   "display_name": "Python 3 (ipykernel)",
   "language": "python",
   "name": "python3"
  },
  "language_info": {
   "codemirror_mode": {
    "name": "ipython",
    "version": 3
   },
   "file_extension": ".py",
   "mimetype": "text/x-python",
   "name": "python",
   "nbconvert_exporter": "python",
   "pygments_lexer": "ipython3",
   "version": "3.11.4"
  }
 },
 "nbformat": 4,
 "nbformat_minor": 5
}
