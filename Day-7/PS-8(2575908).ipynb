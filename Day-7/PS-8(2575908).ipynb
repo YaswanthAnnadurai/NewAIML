{
 "cells": [
  {
   "cell_type": "markdown",
   "id": "197ad312",
   "metadata": {},
   "source": [
    "# Write a python script to implement the various operations for Queue ADT\n",
    "i) Insert ii.) Delete iii.) Display"
   ]
  },
  {
   "cell_type": "code",
   "execution_count": 1,
   "id": "09514ea6",
   "metadata": {},
   "outputs": [],
   "source": [
    "class Queue:\n",
    "    def __init__(self):\n",
    "        self.items = []\n",
    "\n",
    "    def is_empty(self):\n",
    "        return len(self.items) == 0\n",
    "\n",
    "    def insert(self, item):\n",
    "        self.items.append(item)\n",
    "\n",
    "    def delete(self):\n",
    "        if not self.is_empty():\n",
    "            return self.items.pop(0)\n",
    "        else:\n",
    "            return None  # Queue is empty\n",
    "\n",
    "    def display(self):\n",
    "        if not self.is_empty():\n",
    "            for item in self.items:\n",
    "                print(item)\n",
    "        else:\n",
    "            print(\"Queue is empty\")\n",
    "queue = Queue()"
   ]
  },
  {
   "cell_type": "code",
   "execution_count": 2,
   "id": "a215edde",
   "metadata": {},
   "outputs": [
    {
     "name": "stdout",
     "output_type": "stream",
     "text": [
      "Queue elements:\n",
      "40\n",
      "50\n",
      "60\n",
      "Deleted item: 40\n",
      "Queue elements after deleting:\n",
      "50\n",
      "60\n"
     ]
    }
   ],
   "source": [
    "queue.insert(40)\n",
    "queue.insert(50)\n",
    "queue.insert(60)\n",
    "\n",
    "print(\"Queue elements:\")\n",
    "queue.display()\n",
    "\n",
    "deleted_item = queue.delete()\n",
    "if deleted_item is not None:\n",
    "    print(f\"Deleted item: {deleted_item}\")\n",
    "else:\n",
    "    print(\"Queue is empty\")\n",
    "\n",
    "print(\"Queue elements after deleting:\")\n",
    "queue.display()"
   ]
  },
  {
   "cell_type": "code",
   "execution_count": 3,
   "id": "9503d14c",
   "metadata": {},
   "outputs": [
    {
     "data": {
      "text/plain": [
       "50"
      ]
     },
     "execution_count": 3,
     "metadata": {},
     "output_type": "execute_result"
    }
   ],
   "source": [
    "queue.delete()"
   ]
  },
  {
   "cell_type": "code",
   "execution_count": 4,
   "id": "dfdad3f1",
   "metadata": {},
   "outputs": [
    {
     "name": "stdout",
     "output_type": "stream",
     "text": [
      "60\n"
     ]
    }
   ],
   "source": [
    "queue.display()"
   ]
  },
  {
   "cell_type": "code",
   "execution_count": 5,
   "id": "22df44d0",
   "metadata": {},
   "outputs": [],
   "source": [
    "queue.insert(200)"
   ]
  },
  {
   "cell_type": "code",
   "execution_count": 6,
   "id": "074b5893",
   "metadata": {},
   "outputs": [],
   "source": [
    "queue.insert(20)\n",
    "queue.insert(800)"
   ]
  },
  {
   "cell_type": "code",
   "execution_count": 7,
   "id": "5d852435",
   "metadata": {},
   "outputs": [
    {
     "name": "stdout",
     "output_type": "stream",
     "text": [
      "60\n",
      "200\n",
      "20\n",
      "800\n"
     ]
    }
   ],
   "source": [
    "queue.display()"
   ]
  },
  {
   "cell_type": "code",
   "execution_count": 8,
   "id": "dd66ce06",
   "metadata": {},
   "outputs": [
    {
     "data": {
      "text/plain": [
       "False"
      ]
     },
     "execution_count": 8,
     "metadata": {},
     "output_type": "execute_result"
    }
   ],
   "source": [
    "queue.is_empty()"
   ]
  },
  {
   "cell_type": "code",
   "execution_count": null,
   "id": "d1a6cc4f",
   "metadata": {},
   "outputs": [],
   "source": []
  }
 ],
 "metadata": {
  "kernelspec": {
   "display_name": "Python 3 (ipykernel)",
   "language": "python",
   "name": "python3"
  },
  "language_info": {
   "codemirror_mode": {
    "name": "ipython",
    "version": 3
   },
   "file_extension": ".py",
   "mimetype": "text/x-python",
   "name": "python",
   "nbconvert_exporter": "python",
   "pygments_lexer": "ipython3",
   "version": "3.11.4"
  }
 },
 "nbformat": 4,
 "nbformat_minor": 5
}
