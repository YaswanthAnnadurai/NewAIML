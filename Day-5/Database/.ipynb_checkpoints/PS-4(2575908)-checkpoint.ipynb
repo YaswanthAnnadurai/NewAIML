{
 "cells": [
  {
   "cell_type": "markdown",
   "id": "2b612969",
   "metadata": {},
   "source": [
    "# You are developing an employee management system for a company. The database should store employee information, including name, salary, department, and hire date. Managers should be able to view and update employee details.\n",
    "\n",
    "1. Design the database schema for the employee management system. \n",
    "\n",
    "2. Write Python code to connect to the database and retrieve a list of employees in a specific department\n",
    "\n",
    "3. Implement a feature to update an employee's salary"
   ]
  },
  {
   "cell_type": "code",
   "execution_count": 1,
   "id": "4773ca9b",
   "metadata": {},
   "outputs": [
    {
     "name": "stdout",
     "output_type": "stream",
     "text": [
      "<mysql.connector.connection_cext.CMySQLConnection object at 0x000001B552E0BD90>\n"
     ]
    }
   ],
   "source": [
    "import mysql.connector\n",
    "conn= mysql.connector.connect(\n",
    "    host=\"127.0.0.1\",\n",
    "    user=\"root\",\n",
    "    password=\"Yechu@ygadmy5\",\n",
    "    database=\"Employee\")\n",
    "print(conn)"
   ]
  },
  {
   "cell_type": "code",
   "execution_count": 2,
   "id": "ebf6f115",
   "metadata": {},
   "outputs": [],
   "source": [
    "cursor =conn.cursor()"
   ]
  },
  {
   "cell_type": "code",
   "execution_count": 3,
   "id": "de880718",
   "metadata": {},
   "outputs": [
    {
     "data": {
      "text/plain": [
       "<mysql.connector.cursor_cext.CMySQLCursor at 0x1b552fce610>"
      ]
     },
     "execution_count": 3,
     "metadata": {},
     "output_type": "execute_result"
    }
   ],
   "source": [
    "cursor"
   ]
  },
  {
   "cell_type": "code",
   "execution_count": 4,
   "id": "64cd4d41",
   "metadata": {},
   "outputs": [],
   "source": [
    "cursor.execute(\"CREATE TABLE Employees(Name VARCHAR(255) NOT NULL,Salary INT NOT NULL,Hire_Date DATE NOT NULL,Department varchar(50))\")"
   ]
  },
  {
   "cell_type": "code",
   "execution_count": 7,
   "id": "c68086ce",
   "metadata": {},
   "outputs": [],
   "source": [
    "cursor.execute('INSERT INTO Employees (Name,Salary,Hire_Date,Department) VALUES (\"Yechu\",2500,\"2000-10-30\",\"HR\")')\n",
    "conn.commit()"
   ]
  },
  {
   "cell_type": "code",
   "execution_count": 8,
   "id": "97bdd978",
   "metadata": {},
   "outputs": [
    {
     "name": "stdout",
     "output_type": "stream",
     "text": [
      "Name: Yechu, Salary: 2500, Hire Date: 2000-10-30\n"
     ]
    }
   ],
   "source": [
    "import mysql.connector\n",
    "try:\n",
    "    db = {\n",
    "        \"host\": \"localhost\",\n",
    "        \"user\": \"root\",\n",
    "        \"password\": \"Yechu@ygadmy5\",\n",
    "        \"database\": \"Employee\"\n",
    "    }\n",
    "    conn = mysql.connector.connect(**db)\n",
    "    cursor = conn.cursor()\n",
    "    target_department = \"HR\"\n",
    "    query = \"SELECT name, salary, hire_date FROM Employees WHERE department = %s\"\n",
    "    cursor.execute(query, (target_department,))\n",
    "    employees = cursor.fetchall()\n",
    "    for employee in employees:\n",
    "        name, salary, hire_date = employee\n",
    "        print(f\"Name: {name}, Salary: {salary}, Hire Date: {hire_date}\")\n",
    "except mysql.connector.Error as err:\n",
    "    print(f\"Error: {err}\")\n",
    "except Exception as e:\n",
    "    print(f\"An error occurred: {e}\")"
   ]
  },
  {
   "cell_type": "code",
   "execution_count": 10,
   "id": "41e1e5ed",
   "metadata": {},
   "outputs": [
    {
     "name": "stdout",
     "output_type": "stream",
     "text": [
      "John Cena's salary updated to 10000.00\n"
     ]
    }
   ],
   "source": [
    "employee_name = \"John Cena\"\n",
    "new_salary = 10000.00\n",
    "update_query = \"UPDATE Employees SET salary = %s WHERE name = %s\"\n",
    "cursor.execute(update_query, (new_salary, employee_name))\n",
    "conn.commit()\n",
    "print(f\"{employee_name}'s salary updated to {new_salary:.2f}\")"
   ]
  },
  {
   "cell_type": "code",
   "execution_count": null,
   "id": "9fd1f351",
   "metadata": {},
   "outputs": [],
   "source": []
  }
 ],
 "metadata": {
  "kernelspec": {
   "display_name": "Python 3 (ipykernel)",
   "language": "python",
   "name": "python3"
  },
  "language_info": {
   "codemirror_mode": {
    "name": "ipython",
    "version": 3
   },
   "file_extension": ".py",
   "mimetype": "text/x-python",
   "name": "python",
   "nbconvert_exporter": "python",
   "pygments_lexer": "ipython3",
   "version": "3.11.4"
  }
 },
 "nbformat": 4,
 "nbformat_minor": 5
}
