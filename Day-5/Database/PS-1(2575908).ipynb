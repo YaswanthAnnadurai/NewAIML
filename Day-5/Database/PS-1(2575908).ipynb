{
 "cells": [
  {
   "cell_type": "markdown",
   "id": "3a389cad",
   "metadata": {},
   "source": [
    "# 1. Implement Inventory Management in Python with MySQL a) Inventory management, a critical element of the supply chain, is the tracking of inventory from manufacturers to warehouses and from these facilities to a point of sale. The goal of inventory management is to have the right products in the right place at the right time. b) The required Database is Inventory, and the required Tables are Purchases, Sales and Inventory c) Note: Apply your thoughts to demonstrate the DB Operation in Python."
   ]
  },
  {
   "cell_type": "code",
   "execution_count": 1,
   "id": "7aa13dad",
   "metadata": {},
   "outputs": [
    {
     "name": "stdout",
     "output_type": "stream",
     "text": [
      "<mysql.connector.connection_cext.CMySQLConnection object at 0x000001BBBBFABB10>\n"
     ]
    }
   ],
   "source": [
    "import mysql.connector\n",
    "\n",
    "\n",
    "connection = mysql.connector.connect(\n",
    "                            user='root',\n",
    "                            password='Yechu@ygadmy5',\n",
    "                            host='127.0.0.1',\n",
    "                            database='Inventory_Management')\n",
    "print(connection)"
   ]
  },
  {
   "cell_type": "code",
   "execution_count": 64,
   "id": "b497ff2b",
   "metadata": {},
   "outputs": [],
   "source": [
    "cursor = connection.cursor()"
   ]
  },
  {
   "cell_type": "code",
   "execution_count": 65,
   "id": "5aec7b76",
   "metadata": {},
   "outputs": [
    {
     "data": {
      "text/plain": [
       "<mysql.connector.cursor_cext.CMySQLCursor at 0x19906a256d0>"
      ]
     },
     "execution_count": 65,
     "metadata": {},
     "output_type": "execute_result"
    }
   ],
   "source": [
    "cursor"
   ]
  },
  {
   "cell_type": "code",
   "execution_count": 57,
   "id": "bcc0dc93",
   "metadata": {},
   "outputs": [],
   "source": [
    "cursor.execute(\"CREATE TABLE IF NOT EXISTS Purchases (id INT AUTO_INCREMENT PRIMARY KEY, product_name VARCHAR(255), quantity INT)\")\n",
    "cursor.execute(\"CREATE TABLE IF NOT EXISTS Sales (id INT AUTO_INCREMENT PRIMARY KEY, product_name VARCHAR(255), quantity INT)\")\n",
    "cursor.execute(\"CREATE TABLE IF NOT EXISTS Inventory (id INT AUTO_INCREMENT PRIMARY KEY, product_name VARCHAR(255), quantity INT)\")\n",
    "\n",
    "def add_purchase(product_name, quantity):\n",
    "    cursor.execute(\"INSERT INTO Purchases (product_name, quantity) VALUES (%s, %s)\", (product_name, quantity))\n",
    "    connection.commit()\n",
    "    \n",
    "\n",
    "def add_sale(product_name, quantity):\n",
    "    cursor.execute(\"INSERT INTO Sales (product_name, quantity) VALUES (%s, %s)\", (product_name, quantity))\n",
    "    connection.commit()\n",
    "    \n",
    "def update_inventory(product_name):\n",
    "    cursor.execute(\"SELECT SUM(quantity) FROM Purchases WHERE product_name = %s\", (product_name,))\n",
    "    purchase_total = cursor.fetchone()[0]\n",
    "\n",
    "    cursor.execute(\"SELECT SUM(quantity) FROM Sales WHERE product_name = %s\", (product_name,))\n",
    "    sales_total = cursor.fetchone()[0]\n",
    "\n",
    "    inventory = purchase_total - sales_total\n",
    "\n",
    "    cursor.execute(\"INSERT INTO Inventory (product_name, quantity) VALUES (%s, %s)\", (product_name, inventory))\n",
    "    connection.commit()\n",
    "    \n",
    "add_purchase(\"Product A\", 10)\n",
    "add_purchase(\"Product B\", 5)\n",
    "\n",
    "update_inventory(\"Product A\")\n",
    "\n",
    "cursor.close()\n",
    "connection.close()"
   ]
  },
  {
   "cell_type": "code",
   "execution_count": 66,
   "id": "9d94a668",
   "metadata": {},
   "outputs": [
    {
     "name": "stdout",
     "output_type": "stream",
     "text": [
      "(1, 'Product A', 10)\n",
      "(2, 'Product B', 5)\n",
      "(3, 'Product A', 10)\n",
      "(4, 'Product B', 5)\n",
      "(5, 'Product A', 10)\n",
      "(6, 'Product B', 5)\n",
      "(7, 'Product A', 10)\n",
      "(8, 'Product B', 5)\n",
      "(9, 'Product A', 10)\n",
      "(10, 'Product B', 5)\n",
      "(11, 'Product A', 10)\n",
      "(12, 'Product B', 5)\n",
      "(13, 'Product A', 10)\n",
      "(14, 'Product B', 5)\n",
      "(15, 'Product A', 10)\n",
      "(16, 'Product B', 5)\n",
      "(17, 'Product A', 10)\n",
      "(18, 'Product B', 5)\n",
      "(19, 'Product A', 10)\n",
      "(20, 'Product B', 5)\n"
     ]
    }
   ],
   "source": [
    "sql=\"select * from purchases\"\n",
    "cursor.execute(sql)\n",
    "for i in cursor:\n",
    "    print(i)"
   ]
  },
  {
   "cell_type": "code",
   "execution_count": null,
   "id": "fe5e0eb9",
   "metadata": {},
   "outputs": [],
   "source": []
  }
 ],
 "metadata": {
  "kernelspec": {
   "display_name": "Python 3 (ipykernel)",
   "language": "python",
   "name": "python3"
  },
  "language_info": {
   "codemirror_mode": {
    "name": "ipython",
    "version": 3
   },
   "file_extension": ".py",
   "mimetype": "text/x-python",
   "name": "python",
   "nbconvert_exporter": "python",
   "pygments_lexer": "ipython3",
   "version": "3.11.4"
  }
 },
 "nbformat": 4,
 "nbformat_minor": 5
}
