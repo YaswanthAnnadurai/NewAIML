{
 "cells": [
  {
   "cell_type": "markdown",
   "id": "1c083d2a",
   "metadata": {},
   "source": [
    "# You are tasked with developing a Python program that connects to a MySQL database, retrieves data from a table, performs some operations on the data, and updates the database with the modified data. Please write Python code to accomplish this task.\n",
    "\n",
    "Instructions:\n",
    "\n",
    "1. Assume that you have a MySQL database server running with the following details:\n",
    "\n",
    "i) Host: localhost\n",
    "\n",
    "ii) Port: 3306\n",
    "\n",
    "iii) Username: your username\n",
    "\n",
    "iv) Password: your password\n",
    "\n",
    "v) Database Name: your database.\n",
    "\n",
    "vi) Table Name your table\n",
    "\n",
    "vii) The table has the following columns: id (int), name (varchar),quantity (int)\n",
    "\n",
    "2. Your Python program should\n",
    "\n",
    "i) Connect to the MySQL database.\n",
    "\n",
    "ii) Retrieve all records from the your table table.\n",
    "\n",
    "iii) Calculate the total quantity of all records retrieved.\n",
    "\n",
    "iv) Update the quantity column of each record by doubling its value.\n",
    "\n",
    "v) Commit the changes to the database v Close the database connection.\n",
    "\n",
    "3. Handle any potential errors that may occur during the database connection and data manipulation, such as connection failures or SQL errors\n",
    "\n",
    "4. Provide comments in your code to explain each step."
   ]
  },
  {
   "cell_type": "code",
   "execution_count": 1,
   "id": "b9e05a79",
   "metadata": {},
   "outputs": [
    {
     "name": "stdout",
     "output_type": "stream",
     "text": [
      "<mysql.connector.connection_cext.CMySQLConnection object at 0x000001E3C8F8C550>\n"
     ]
    }
   ],
   "source": [
    "import mysql.connector\n",
    "conn= mysql.connector.connect(\n",
    "    host=\"127.0.0.1\",\n",
    "    user=\"root\",\n",
    "    password=\"Yechu@ygadmy5\",\n",
    "    database=\"Customer\")\n",
    "print(conn)"
   ]
  },
  {
   "cell_type": "code",
   "execution_count": 2,
   "id": "f4a3e7a4",
   "metadata": {},
   "outputs": [
    {
     "data": {
      "text/plain": [
       "<mysql.connector.cursor_cext.CMySQLCursor at 0x1e3c8f97b90>"
      ]
     },
     "execution_count": 2,
     "metadata": {},
     "output_type": "execute_result"
    }
   ],
   "source": [
    "cursor =conn.cursor()\n",
    "cursor"
   ]
  },
  {
   "cell_type": "code",
   "execution_count": null,
   "id": "34509f2d",
   "metadata": {},
   "outputs": [],
   "source": [
    "cursor.execute('INSERT INTO products (product_id,product_name,price,quantity,quantity_available) VALUES (1,\"num\",1200,5,10)')\n",
    "conn.commit()"
   ]
  },
  {
   "cell_type": "code",
   "execution_count": 3,
   "id": "5d4398a4",
   "metadata": {},
   "outputs": [
    {
     "name": "stdout",
     "output_type": "stream",
     "text": [
      "Database update completed successfully.\n",
      "Total quantity before update: 10\n",
      "Total quantity after update: 20\n"
     ]
    }
   ],
   "source": [
    "import mysql.connector\n",
    "\n",
    "try:\n",
    "    # Database connection parameters\n",
    "    db_config = {\n",
    "        \"host\":\"127.0.0.1\",\n",
    "        \"user\": \"root\",\n",
    "        \"password\": \"Yechu@ygadmy5\",\n",
    "        \"database\": \"Customer\"\n",
    "    }\n",
    "\n",
    "    # Connect to the MySQL database\n",
    "    conn = mysql.connector.connect(**db_config)\n",
    "\n",
    "    # Create a cursor\n",
    "    cursor = conn.cursor()\n",
    "\n",
    "    # Retrieve all records from the 'your_table' table\n",
    "    cursor.execute(\"SELECT * FROM products\")\n",
    "    records = cursor.fetchall()\n",
    "\n",
    "    # Calculate the total quantity of all records retrieved\n",
    "    total_quantity = sum(record[4] for record in records)\n",
    "\n",
    "    # Update the quantity column of each record by doubling its value\n",
    "    update_query = \"UPDATE products SET quantity = quantity * 2\"\n",
    "    cursor.execute(update_query)\n",
    "\n",
    "    # Commit the changes to the database\n",
    "    conn.commit()\n",
    "\n",
    "    # Close the cursor and connection\n",
    "    cursor.close()\n",
    "    conn.close()\n",
    "\n",
    "    print(\"Database update completed successfully.\")\n",
    "    print(f\"Total quantity before update: {total_quantity}\")\n",
    "    print(f\"Total quantity after update: {total_quantity * 2}\")\n",
    "\n",
    "except mysql.connector.Error as err:\n",
    "    print(f\"Error: {err}\")\n",
    "except Exception as e:\n",
    "    print(f\"An error occurred: {e}\")"
   ]
  },
  {
   "cell_type": "code",
   "execution_count": null,
   "id": "a1832e29",
   "metadata": {},
   "outputs": [],
   "source": []
  }
 ],
 "metadata": {
  "kernelspec": {
   "display_name": "Python 3 (ipykernel)",
   "language": "python",
   "name": "python3"
  },
  "language_info": {
   "codemirror_mode": {
    "name": "ipython",
    "version": 3
   },
   "file_extension": ".py",
   "mimetype": "text/x-python",
   "name": "python",
   "nbconvert_exporter": "python",
   "pygments_lexer": "ipython3",
   "version": "3.11.4"
  }
 },
 "nbformat": 4,
 "nbformat_minor": 5
}
