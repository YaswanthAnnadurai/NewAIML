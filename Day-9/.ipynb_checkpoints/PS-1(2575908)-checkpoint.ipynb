{
 "cells": [
  {
   "cell_type": "markdown",
   "id": "cb618d3a",
   "metadata": {},
   "source": [
    "# Create a 3x3x3 array with random values\n",
    "\n",
    "In []:\n",
    "\n",
    "1 2\n"
   ]
  },
  {
   "cell_type": "code",
   "execution_count": 2,
   "id": "e5556cc3",
   "metadata": {},
   "outputs": [],
   "source": [
    "import numpy as np"
   ]
  },
  {
   "cell_type": "code",
   "execution_count": 3,
   "id": "db236f59",
   "metadata": {},
   "outputs": [
    {
     "data": {
      "text/plain": [
       "array([[[0.68059236, 0.15073838, 0.35885769],\n",
       "        [0.05029853, 0.20433407, 0.18182634],\n",
       "        [0.13245503, 0.33172982, 0.6011909 ]],\n",
       "\n",
       "       [[0.15520963, 0.05473465, 0.45817757],\n",
       "        [0.34836084, 0.32903618, 0.71273673],\n",
       "        [0.41994724, 0.94883172, 0.25475735]],\n",
       "\n",
       "       [[0.13072223, 0.01661246, 0.62831028],\n",
       "        [0.65168348, 0.30732078, 0.7960576 ],\n",
       "        [0.3195954 , 0.98494263, 0.42088444]]])"
      ]
     },
     "execution_count": 3,
     "metadata": {},
     "output_type": "execute_result"
    }
   ],
   "source": [
    "random_array = np.random.rand(3, 3, 3)\n",
    "random_array"
   ]
  },
  {
   "cell_type": "markdown",
   "id": "40d727e0",
   "metadata": {},
   "source": [
    "# Create a 5x5 matrix with values 1,2,3,4 just below the diagonal\n",
    "\n",
    "In [1:1"
   ]
  },
  {
   "cell_type": "code",
   "execution_count": 4,
   "id": "83a6504a",
   "metadata": {},
   "outputs": [
    {
     "data": {
      "text/plain": [
       "array([[0, 0, 0, 0, 0],\n",
       "       [1, 0, 0, 0, 0],\n",
       "       [0, 2, 0, 0, 0],\n",
       "       [0, 0, 3, 0, 0],\n",
       "       [0, 0, 0, 4, 0]])"
      ]
     },
     "execution_count": 4,
     "metadata": {},
     "output_type": "execute_result"
    }
   ],
   "source": [
    "matrix = np.diag(1 + np.arange(4), k=-1)\n",
    "matrix"
   ]
  },
  {
   "cell_type": "markdown",
   "id": "f3f91566",
   "metadata": {},
   "source": [
    "# Create a 8x8 matrix and fill it with a checkerboard pattern\n",
    "\n",
    "In 1: 1\n"
   ]
  },
  {
   "cell_type": "code",
   "execution_count": 5,
   "id": "58bc4ea6",
   "metadata": {},
   "outputs": [
    {
     "data": {
      "text/plain": [
       "array([[0, 1, 0, 1, 0, 1, 0, 1],\n",
       "       [1, 0, 1, 0, 1, 0, 1, 0],\n",
       "       [0, 1, 0, 1, 0, 1, 0, 1],\n",
       "       [1, 0, 1, 0, 1, 0, 1, 0],\n",
       "       [0, 1, 0, 1, 0, 1, 0, 1],\n",
       "       [1, 0, 1, 0, 1, 0, 1, 0],\n",
       "       [0, 1, 0, 1, 0, 1, 0, 1],\n",
       "       [1, 0, 1, 0, 1, 0, 1, 0]])"
      ]
     },
     "execution_count": 5,
     "metadata": {},
     "output_type": "execute_result"
    }
   ],
   "source": [
    "checkerboard = np.zeros((8, 8), dtype=int)\n",
    "checkerboard[1::2, ::2] = 1\n",
    "checkerboard[::2, 1::2] = 1\n",
    "checkerboard"
   ]
  },
  {
   "cell_type": "markdown",
   "id": "a76e7dcd",
   "metadata": {},
   "source": [
    "# Normalize a 5x5 random matrix\n",
    "\n",
    "In [1: 1\n"
   ]
  },
  {
   "cell_type": "code",
   "execution_count": 6,
   "id": "a7ae211f",
   "metadata": {},
   "outputs": [
    {
     "data": {
      "text/plain": [
       "array([[0.01096848, 0.57317345, 0.63800404, 0.59859387, 0.62433202],\n",
       "       [0.89710029, 0.42146623, 0.80039707, 0.26179263, 0.98794034],\n",
       "       [0.79788926, 0.3743245 , 0.35867341, 0.29291596, 0.11216757],\n",
       "       [0.91188132, 0.91747769, 0.13125296, 0.        , 0.14567075],\n",
       "       [0.36608698, 0.40364342, 0.42995328, 1.        , 0.20510116]])"
      ]
     },
     "execution_count": 6,
     "metadata": {},
     "output_type": "execute_result"
    }
   ],
   "source": [
    "random_matrix = np.random.rand(5, 5)\n",
    "normalized_matrix = (random_matrix - random_matrix.min()) / (random_matrix.max() - random_matrix.min())\n",
    "normalized_matrix"
   ]
  },
  {
   "cell_type": "markdown",
   "id": "c743f3e6",
   "metadata": {},
   "source": [
    "# How to find common values between two arrays?"
   ]
  },
  {
   "cell_type": "code",
   "execution_count": 7,
   "id": "3d4757d0",
   "metadata": {},
   "outputs": [
    {
     "data": {
      "text/plain": [
       "array([3, 4, 5])"
      ]
     },
     "execution_count": 7,
     "metadata": {},
     "output_type": "execute_result"
    }
   ],
   "source": [
    "array1 = np.array([1, 2, 3, 4, 5])\n",
    "array2 = np.array([3, 4, 5, 6, 7])\n",
    "common_values = np.intersect1d(array1, array2)\n",
    "common_values"
   ]
  },
  {
   "cell_type": "markdown",
   "id": "357c4a7d",
   "metadata": {},
   "source": [
    "# How to get the dates of yesterday, today and tomorrow?\n",
    "\n",
    "Το 11 1"
   ]
  },
  {
   "cell_type": "code",
   "execution_count": 8,
   "id": "622236f8",
   "metadata": {},
   "outputs": [
    {
     "name": "stdout",
     "output_type": "stream",
     "text": [
      "Yesterday: 2023-09-20\n",
      "Today: 2023-09-21\n",
      "Tomorrow: 2023-09-22\n"
     ]
    }
   ],
   "source": [
    "from datetime import datetime, timedelta\n",
    "today = datetime.now()\n",
    "yesterday = today - timedelta(days=1)\n",
    "tomorrow = today + timedelta(days=1)\n",
    "print(\"Yesterday:\", yesterday.strftime(\"%Y-%m-%d\"))\n",
    "print(\"Today:\", today.strftime(\"%Y-%m-%d\"))\n",
    "print(\"Tomorrow:\", tomorrow.strftime(\"%Y-%m-%d\"))"
   ]
  },
  {
   "cell_type": "markdown",
   "id": "9260e1be",
   "metadata": {},
   "source": [
    "# Consider two random array A and B, check if they are equal"
   ]
  },
  {
   "cell_type": "code",
   "execution_count": 9,
   "id": "8a10a162",
   "metadata": {},
   "outputs": [
    {
     "data": {
      "text/plain": [
       "False"
      ]
     },
     "execution_count": 9,
     "metadata": {},
     "output_type": "execute_result"
    }
   ],
   "source": [
    "array_A = np.random.rand(5)\n",
    "array_B = np.random.rand(5)\n",
    "are_equal = np.array_equal(array_A, array_B)\n",
    "are_equal"
   ]
  },
  {
   "cell_type": "markdown",
   "id": "89bbe354",
   "metadata": {},
   "source": [
    "# Create random vector of size 10 and replace the maximum value by 0"
   ]
  },
  {
   "cell_type": "code",
   "execution_count": 10,
   "id": "b4aa06f0",
   "metadata": {},
   "outputs": [
    {
     "data": {
      "text/plain": [
       "array([0.31822589, 0.55258771, 0.        , 0.7761464 , 0.00136298,\n",
       "       0.58619688, 0.46221019, 0.70514243, 0.44537901, 0.01965895])"
      ]
     },
     "execution_count": 10,
     "metadata": {},
     "output_type": "execute_result"
    }
   ],
   "source": [
    "random_vector = np.random.rand(10)\n",
    "max_value_index = np.argmax(random_vector)\n",
    "random_vector[max_value_index] = 0\n",
    "random_vector"
   ]
  },
  {
   "cell_type": "markdown",
   "id": "dd53624f",
   "metadata": {},
   "source": [
    "# How to print all the values of an array?\n"
   ]
  },
  {
   "cell_type": "code",
   "execution_count": 11,
   "id": "2fbbabff",
   "metadata": {},
   "outputs": [
    {
     "name": "stdout",
     "output_type": "stream",
     "text": [
      "[1 2 3 4 5]\n"
     ]
    }
   ],
   "source": [
    "array = np.array([1, 2, 3, 4, 5])\n",
    "print(array)"
   ]
  },
  {
   "cell_type": "markdown",
   "id": "4281e939",
   "metadata": {},
   "source": [
    "# Subtract the mean of each row of a matrix"
   ]
  },
  {
   "cell_type": "code",
   "execution_count": 12,
   "id": "01b9303e",
   "metadata": {},
   "outputs": [
    {
     "data": {
      "text/plain": [
       "array([[-0.44599508,  0.16294231,  0.28305277],\n",
       "       [-0.16053842,  0.17178712, -0.01124869],\n",
       "       [-0.04130794,  0.09659098, -0.05528304]])"
      ]
     },
     "execution_count": 12,
     "metadata": {},
     "output_type": "execute_result"
    }
   ],
   "source": [
    "matrix = np.random.rand(3, 3)\n",
    "row_means = np.mean(matrix, axis=1)\n",
    "matrix_minus_means = matrix - row_means[:, np.newaxis]\n",
    "matrix_minus_means"
   ]
  },
  {
   "cell_type": "markdown",
   "id": "3d75b224",
   "metadata": {},
   "source": [
    "# Consider a given vector, how to add 1 to each element indexed by a second vector (be careful with repeated indices)?\n"
   ]
  },
  {
   "cell_type": "code",
   "execution_count": 13,
   "id": "4a1715fd",
   "metadata": {},
   "outputs": [
    {
     "data": {
      "text/plain": [
       "array([0.49439052, 1.41876907, 0.07964518, 1.44578937, 0.38846347,\n",
       "       1.39065539, 0.01178578, 0.21023925, 0.33426792, 0.79633124])"
      ]
     },
     "execution_count": 13,
     "metadata": {},
     "output_type": "execute_result"
    }
   ],
   "source": [
    "vector = np.random.rand(10)\n",
    "indices_to_add_one = np.array([1, 3, 5, 3])  \n",
    "vector[indices_to_add_one] += 1\n",
    "vector"
   ]
  },
  {
   "cell_type": "markdown",
   "id": "3305381f",
   "metadata": {},
   "source": [
    "# How to get the diagonal of a dot product?"
   ]
  },
  {
   "cell_type": "code",
   "execution_count": 14,
   "id": "7f439ae7",
   "metadata": {},
   "outputs": [
    {
     "data": {
      "text/plain": [
       "array([0.76581831, 1.0900821 , 1.30161489])"
      ]
     },
     "execution_count": 14,
     "metadata": {},
     "output_type": "execute_result"
    }
   ],
   "source": [
    "matrix1 = np.random.rand(3, 3)\n",
    "matrix2 = np.random.rand(3, 3)\n",
    "dot_product = np.dot(matrix1, matrix2)\n",
    "diagonal = np.diag(dot_product)\n",
    "diagonal"
   ]
  },
  {
   "cell_type": "markdown",
   "id": "bd047313",
   "metadata": {},
   "source": [
    "# How to find the most frequent value in an array?"
   ]
  },
  {
   "cell_type": "code",
   "execution_count": 15,
   "id": "c6904bfe",
   "metadata": {},
   "outputs": [
    {
     "data": {
      "text/plain": [
       "2"
      ]
     },
     "execution_count": 15,
     "metadata": {},
     "output_type": "execute_result"
    }
   ],
   "source": [
    "x=np.random.randint(0,10,50)\n",
    "most_frequent_value = np.bincount(x).argmax()\n",
    "most_frequent_value"
   ]
  },
  {
   "cell_type": "markdown",
   "id": "711aad86",
   "metadata": {},
   "source": [
    "# How to get the n largest values of an array"
   ]
  },
  {
   "cell_type": "code",
   "execution_count": 16,
   "id": "9c13cfa4",
   "metadata": {},
   "outputs": [
    {
     "name": "stdout",
     "output_type": "stream",
     "text": [
      "[(1, 'Red') (2, 'Green') (3, 'White') (4, 'Orange')]\n"
     ]
    }
   ],
   "source": [
    "a1 = np.array([1, 2, 3, 4])\n",
    "a2 = np.array(['Red', 'Green', 'White', 'Orange'])\n",
    "result = np.core.records.fromarrays([a1, a2], names='a,b')\n",
    "print(result)"
   ]
  },
  {
   "cell_type": "markdown",
   "id": "5a41891c",
   "metadata": {},
   "source": [
    "# How to create a record array from a regular array?"
   ]
  },
  {
   "cell_type": "code",
   "execution_count": 17,
   "id": "6d1437c0",
   "metadata": {},
   "outputs": [
    {
     "data": {
      "text/plain": [
       "array([5, 6, 9])"
      ]
     },
     "execution_count": 17,
     "metadata": {},
     "output_type": "execute_result"
    }
   ],
   "source": [
    "array = np.array([3, 1, 4, 1, 5, 9, 2, 6, 5, 3])\n",
    "n_largest_values = np.partition(array, -3)[-3:] \n",
    "n_largest_values"
   ]
  },
  {
   "cell_type": "markdown",
   "id": "3c4db6a1",
   "metadata": {},
   "source": [
    "# How to swap two rows of an array?"
   ]
  },
  {
   "cell_type": "code",
   "execution_count": 18,
   "id": "1090c4e4",
   "metadata": {},
   "outputs": [
    {
     "data": {
      "text/plain": [
       "array([[0.35499096, 0.86407029, 0.25331873],\n",
       "       [0.18656071, 0.76721189, 0.07947997],\n",
       "       [0.96069891, 0.83593317, 0.04415868]])"
      ]
     },
     "execution_count": 18,
     "metadata": {},
     "output_type": "execute_result"
    }
   ],
   "source": [
    "matrix = np.random.rand(3, 3)\n",
    "matrix[[0, 2]] = matrix[[2, 0]]\n",
    "matrix"
   ]
  },
  {
   "cell_type": "markdown",
   "id": "66753353",
   "metadata": {},
   "source": [
    "# Write python code to reshape to the next dimension of numpy array?"
   ]
  },
  {
   "cell_type": "code",
   "execution_count": 19,
   "id": "e8a66627",
   "metadata": {},
   "outputs": [
    {
     "name": "stdout",
     "output_type": "stream",
     "text": [
      "[[ 24  34 121]\n",
      " [ 23  22  67]\n",
      " [686 434 123]]\n"
     ]
    }
   ],
   "source": [
    "x = np.array([[24, 34, 121], [23, 22, 67], [686, 434, 123]])\n",
    "reshaped_array = x.reshape(-1, 3)\n",
    "\n",
    "print(reshaped_array)"
   ]
  },
  {
   "cell_type": "code",
   "execution_count": null,
   "id": "ad6a311b",
   "metadata": {},
   "outputs": [],
   "source": []
  }
 ],
 "metadata": {
  "kernelspec": {
   "display_name": "Python 3 (ipykernel)",
   "language": "python",
   "name": "python3"
  },
  "language_info": {
   "codemirror_mode": {
    "name": "ipython",
    "version": 3
   },
   "file_extension": ".py",
   "mimetype": "text/x-python",
   "name": "python",
   "nbconvert_exporter": "python",
   "pygments_lexer": "ipython3",
   "version": "3.11.4"
  }
 },
 "nbformat": 4,
 "nbformat_minor": 5
}
